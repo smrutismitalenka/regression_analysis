{
 "cells": [
  {
   "cell_type": "markdown",
   "metadata": {},
   "source": [
    "# Regression Analysis Assignement "
   ]
  },
  {
   "cell_type": "markdown",
   "metadata": {
    "ExecuteTime": {
     "end_time": "2020-08-14T08:44:05.058728Z",
     "start_time": "2020-08-14T08:44:05.030494Z"
    }
   },
   "source": [
    "The market historical [data](https://archive.ics.uci.edu/ml/datasets/Real+estate+valuation+data+set) of real estate valuation are collected from Sindian Dist., New Taipei City, Taiwan. This is a regression problem.\n",
    "\n",
    "Attribute Information:\n",
    "\n",
    "The inputs are as follows\n",
    "* X1=the transaction date (for example, 2013.250=2013 March, 2013.500=2013 June, etc.)\n",
    "* X2=the house age (unit: year)\n",
    "* X3=the distance to the nearest MRT station (unit: meter)\n",
    "* X4=the number of convenience stores in the living circle on foot (integer)\n",
    "* X5=the geographic coordinate, latitude. (unit: degree)\n",
    "* X6=the geographic coordinate, longitude. (unit: degree)\n",
    "\n",
    "* The output,\n",
    "Y= house price of unit area (10000 New Taiwan Dollar/Ping, where Ping is a local unit, 1 Ping = 3.3 meter squared)"
   ]
  },
  {
   "cell_type": "markdown",
   "metadata": {},
   "source": [
    "## Importing Libraries"
   ]
  },
  {
   "cell_type": "code",
   "execution_count": 115,
   "metadata": {
    "ExecuteTime": {
     "end_time": "2020-08-16T17:37:27.740729Z",
     "start_time": "2020-08-16T17:37:27.736896Z"
    }
   },
   "outputs": [],
   "source": [
    "import numpy as np\n",
    "import matplotlib.pyplot as plt\n",
    "import pandas as pd"
   ]
  },
  {
   "cell_type": "markdown",
   "metadata": {},
   "source": [
    "# Importing dataset."
   ]
  },
  {
   "cell_type": "code",
   "execution_count": 116,
   "metadata": {
    "ExecuteTime": {
     "end_time": "2020-08-16T17:37:27.873705Z",
     "start_time": "2020-08-16T17:37:27.744334Z"
    }
   },
   "outputs": [],
   "source": [
    "data = pd.read_csv('Real_Estate_valuation_data.csv')\n",
    "data=data.sort_values('X2')\n",
    "X = data.iloc[:, 2].values\n",
    "y = data.iloc[:, 7].values"
   ]
  },
  {
   "cell_type": "code",
   "execution_count": 117,
   "metadata": {
    "ExecuteTime": {
     "end_time": "2020-08-16T17:37:27.950348Z",
     "start_time": "2020-08-16T17:37:27.887549Z"
    }
   },
   "outputs": [
    {
     "data": {
      "text/plain": [
       "No.    0\n",
       "X1     0\n",
       "X2     0\n",
       "X3     0\n",
       "X4     0\n",
       "X5     0\n",
       "X6     0\n",
       "Y      0\n",
       "dtype: int64"
      ]
     },
     "execution_count": 117,
     "metadata": {},
     "output_type": "execute_result"
    }
   ],
   "source": [
    "data.isnull().sum()"
   ]
  },
  {
   "cell_type": "markdown",
   "metadata": {
    "ExecuteTime": {
     "end_time": "2020-08-14T11:33:12.306813Z",
     "start_time": "2020-08-14T11:33:12.300326Z"
    }
   },
   "source": [
    "* The data set is randomly split into the training data set (2/3 samples) and the testing data set (1/3 samples).\n",
    "* I have considered the house age and house price data for regression."
   ]
  },
  {
   "cell_type": "markdown",
   "metadata": {},
   "source": [
    "## Checking the shape of dataset."
   ]
  },
  {
   "cell_type": "code",
   "execution_count": 118,
   "metadata": {
    "ExecuteTime": {
     "end_time": "2020-08-16T17:37:28.035470Z",
     "start_time": "2020-08-16T17:37:27.954224Z"
    }
   },
   "outputs": [
    {
     "data": {
      "text/plain": [
       "(414, 8)"
      ]
     },
     "execution_count": 118,
     "metadata": {},
     "output_type": "execute_result"
    }
   ],
   "source": [
    "data.shape"
   ]
  },
  {
   "cell_type": "code",
   "execution_count": 119,
   "metadata": {
    "ExecuteTime": {
     "end_time": "2020-08-16T17:37:28.157515Z",
     "start_time": "2020-08-16T17:37:28.039046Z"
    }
   },
   "outputs": [
    {
     "data": {
      "text/html": [
       "<div>\n",
       "<style scoped>\n",
       "    .dataframe tbody tr th:only-of-type {\n",
       "        vertical-align: middle;\n",
       "    }\n",
       "\n",
       "    .dataframe tbody tr th {\n",
       "        vertical-align: top;\n",
       "    }\n",
       "\n",
       "    .dataframe thead th {\n",
       "        text-align: right;\n",
       "    }\n",
       "</style>\n",
       "<table border=\"1\" class=\"dataframe\">\n",
       "  <thead>\n",
       "    <tr style=\"text-align: right;\">\n",
       "      <th></th>\n",
       "      <th>No.</th>\n",
       "      <th>X1</th>\n",
       "      <th>X2</th>\n",
       "      <th>X3</th>\n",
       "      <th>X4</th>\n",
       "      <th>X5</th>\n",
       "      <th>X6</th>\n",
       "      <th>Y</th>\n",
       "    </tr>\n",
       "  </thead>\n",
       "  <tbody>\n",
       "    <tr>\n",
       "      <th>166</th>\n",
       "      <td>167</td>\n",
       "      <td>2013.417</td>\n",
       "      <td>0.0</td>\n",
       "      <td>292.99780</td>\n",
       "      <td>6</td>\n",
       "      <td>24.97744</td>\n",
       "      <td>121.54458</td>\n",
       "      <td>73.6</td>\n",
       "    </tr>\n",
       "    <tr>\n",
       "      <th>103</th>\n",
       "      <td>104</td>\n",
       "      <td>2012.750</td>\n",
       "      <td>0.0</td>\n",
       "      <td>208.39050</td>\n",
       "      <td>6</td>\n",
       "      <td>24.95618</td>\n",
       "      <td>121.53844</td>\n",
       "      <td>45.7</td>\n",
       "    </tr>\n",
       "    <tr>\n",
       "      <th>373</th>\n",
       "      <td>374</td>\n",
       "      <td>2013.083</td>\n",
       "      <td>0.0</td>\n",
       "      <td>274.01440</td>\n",
       "      <td>1</td>\n",
       "      <td>24.97480</td>\n",
       "      <td>121.53059</td>\n",
       "      <td>52.2</td>\n",
       "    </tr>\n",
       "    <tr>\n",
       "      <th>105</th>\n",
       "      <td>106</td>\n",
       "      <td>2012.833</td>\n",
       "      <td>0.0</td>\n",
       "      <td>292.99780</td>\n",
       "      <td>6</td>\n",
       "      <td>24.97744</td>\n",
       "      <td>121.54458</td>\n",
       "      <td>71.0</td>\n",
       "    </tr>\n",
       "    <tr>\n",
       "      <th>123</th>\n",
       "      <td>124</td>\n",
       "      <td>2013.417</td>\n",
       "      <td>0.0</td>\n",
       "      <td>185.42960</td>\n",
       "      <td>0</td>\n",
       "      <td>24.97110</td>\n",
       "      <td>121.53170</td>\n",
       "      <td>45.5</td>\n",
       "    </tr>\n",
       "    <tr>\n",
       "      <th>...</th>\n",
       "      <td>...</td>\n",
       "      <td>...</td>\n",
       "      <td>...</td>\n",
       "      <td>...</td>\n",
       "      <td>...</td>\n",
       "      <td>...</td>\n",
       "      <td>...</td>\n",
       "      <td>...</td>\n",
       "    </tr>\n",
       "    <tr>\n",
       "      <th>128</th>\n",
       "      <td>129</td>\n",
       "      <td>2013.083</td>\n",
       "      <td>41.3</td>\n",
       "      <td>124.99120</td>\n",
       "      <td>6</td>\n",
       "      <td>24.96674</td>\n",
       "      <td>121.54039</td>\n",
       "      <td>60.7</td>\n",
       "    </tr>\n",
       "    <tr>\n",
       "      <th>173</th>\n",
       "      <td>174</td>\n",
       "      <td>2013.083</td>\n",
       "      <td>41.3</td>\n",
       "      <td>401.88070</td>\n",
       "      <td>4</td>\n",
       "      <td>24.98326</td>\n",
       "      <td>121.54460</td>\n",
       "      <td>35.1</td>\n",
       "    </tr>\n",
       "    <tr>\n",
       "      <th>361</th>\n",
       "      <td>362</td>\n",
       "      <td>2013.083</td>\n",
       "      <td>41.4</td>\n",
       "      <td>281.20500</td>\n",
       "      <td>8</td>\n",
       "      <td>24.97345</td>\n",
       "      <td>121.54093</td>\n",
       "      <td>63.3</td>\n",
       "    </tr>\n",
       "    <tr>\n",
       "      <th>392</th>\n",
       "      <td>393</td>\n",
       "      <td>2013.083</td>\n",
       "      <td>42.7</td>\n",
       "      <td>443.80200</td>\n",
       "      <td>6</td>\n",
       "      <td>24.97927</td>\n",
       "      <td>121.53874</td>\n",
       "      <td>35.3</td>\n",
       "    </tr>\n",
       "    <tr>\n",
       "      <th>192</th>\n",
       "      <td>193</td>\n",
       "      <td>2013.167</td>\n",
       "      <td>43.8</td>\n",
       "      <td>57.58945</td>\n",
       "      <td>7</td>\n",
       "      <td>24.96750</td>\n",
       "      <td>121.54069</td>\n",
       "      <td>42.7</td>\n",
       "    </tr>\n",
       "  </tbody>\n",
       "</table>\n",
       "<p>414 rows × 8 columns</p>\n",
       "</div>"
      ],
      "text/plain": [
       "     No.        X1    X2         X3  X4        X5         X6     Y\n",
       "166  167  2013.417   0.0  292.99780   6  24.97744  121.54458  73.6\n",
       "103  104  2012.750   0.0  208.39050   6  24.95618  121.53844  45.7\n",
       "373  374  2013.083   0.0  274.01440   1  24.97480  121.53059  52.2\n",
       "105  106  2012.833   0.0  292.99780   6  24.97744  121.54458  71.0\n",
       "123  124  2013.417   0.0  185.42960   0  24.97110  121.53170  45.5\n",
       "..   ...       ...   ...        ...  ..       ...        ...   ...\n",
       "128  129  2013.083  41.3  124.99120   6  24.96674  121.54039  60.7\n",
       "173  174  2013.083  41.3  401.88070   4  24.98326  121.54460  35.1\n",
       "361  362  2013.083  41.4  281.20500   8  24.97345  121.54093  63.3\n",
       "392  393  2013.083  42.7  443.80200   6  24.97927  121.53874  35.3\n",
       "192  193  2013.167  43.8   57.58945   7  24.96750  121.54069  42.7\n",
       "\n",
       "[414 rows x 8 columns]"
      ]
     },
     "execution_count": 119,
     "metadata": {},
     "output_type": "execute_result"
    }
   ],
   "source": [
    "data"
   ]
  },
  {
   "cell_type": "code",
   "execution_count": 120,
   "metadata": {
    "ExecuteTime": {
     "end_time": "2020-08-16T17:37:28.261818Z",
     "start_time": "2020-08-16T17:37:28.159904Z"
    }
   },
   "outputs": [
    {
     "data": {
      "text/plain": [
       "(414,)"
      ]
     },
     "execution_count": 120,
     "metadata": {},
     "output_type": "execute_result"
    }
   ],
   "source": [
    "X.shape"
   ]
  },
  {
   "cell_type": "markdown",
   "metadata": {},
   "source": [
    "## Reshaping the array."
   ]
  },
  {
   "cell_type": "code",
   "execution_count": 121,
   "metadata": {
    "ExecuteTime": {
     "end_time": "2020-08-16T17:37:28.354895Z",
     "start_time": "2020-08-16T17:37:28.264741Z"
    }
   },
   "outputs": [],
   "source": [
    "X=X.reshape(-1, 1)"
   ]
  },
  {
   "cell_type": "code",
   "execution_count": 122,
   "metadata": {
    "ExecuteTime": {
     "end_time": "2020-08-16T17:37:28.446003Z",
     "start_time": "2020-08-16T17:37:28.356340Z"
    }
   },
   "outputs": [
    {
     "data": {
      "text/plain": [
       "(414, 1)"
      ]
     },
     "execution_count": 122,
     "metadata": {},
     "output_type": "execute_result"
    }
   ],
   "source": [
    "X.shape"
   ]
  },
  {
   "cell_type": "code",
   "execution_count": 123,
   "metadata": {
    "ExecuteTime": {
     "end_time": "2020-08-16T17:37:28.546048Z",
     "start_time": "2020-08-16T17:37:28.450808Z"
    }
   },
   "outputs": [
    {
     "data": {
      "text/plain": [
       "(414,)"
      ]
     },
     "execution_count": 123,
     "metadata": {},
     "output_type": "execute_result"
    }
   ],
   "source": [
    "y.shape"
   ]
  },
  {
   "cell_type": "markdown",
   "metadata": {
    "ExecuteTime": {
     "end_time": "2020-08-14T11:05:40.619446Z",
     "start_time": "2020-08-14T11:05:40.563334Z"
    }
   },
   "source": [
    "## Splitting data into training set and test set."
   ]
  },
  {
   "cell_type": "code",
   "execution_count": 124,
   "metadata": {
    "ExecuteTime": {
     "end_time": "2020-08-16T17:37:28.644869Z",
     "start_time": "2020-08-16T17:37:28.550578Z"
    }
   },
   "outputs": [],
   "source": [
    "from sklearn.model_selection import train_test_split\n",
    "X_train, X_test, y_train, y_test = train_test_split(X, y, test_size = 1/3, random_state = 0)"
   ]
  },
  {
   "cell_type": "markdown",
   "metadata": {},
   "source": [
    "## Applying the simple regression model on the training set."
   ]
  },
  {
   "cell_type": "code",
   "execution_count": 125,
   "metadata": {
    "ExecuteTime": {
     "end_time": "2020-08-16T17:37:28.752031Z",
     "start_time": "2020-08-16T17:37:28.646932Z"
    }
   },
   "outputs": [
    {
     "data": {
      "text/plain": [
       "LinearRegression()"
      ]
     },
     "execution_count": 125,
     "metadata": {},
     "output_type": "execute_result"
    }
   ],
   "source": [
    "from sklearn.linear_model import LinearRegression\n",
    "lin_reg = LinearRegression()\n",
    "lin_reg.fit(X_train, y_train)"
   ]
  },
  {
   "cell_type": "markdown",
   "metadata": {},
   "source": [
    "## Predicting the test set results."
   ]
  },
  {
   "cell_type": "code",
   "execution_count": 126,
   "metadata": {
    "ExecuteTime": {
     "end_time": "2020-08-16T17:37:28.838124Z",
     "start_time": "2020-08-16T17:37:28.762725Z"
    }
   },
   "outputs": [],
   "source": [
    "y_pred = lin_reg.predict(X_test)"
   ]
  },
  {
   "cell_type": "code",
   "execution_count": 127,
   "metadata": {
    "ExecuteTime": {
     "end_time": "2020-08-16T17:37:28.937915Z",
     "start_time": "2020-08-16T17:37:28.841125Z"
    }
   },
   "outputs": [
    {
     "data": {
      "text/plain": [
       "array([35.31931855, 39.29566292, 38.70126093, 35.74974758, 36.48762591,\n",
       "       35.85223068, 39.3776494 , 42.08320331, 41.85774048, 38.18884542,\n",
       "       36.05719688, 41.14035877, 34.04852808, 38.88573051, 35.44229827,\n",
       "       40.81241284, 38.31182514, 39.29566292, 42.08320331, 39.0702001 ,\n",
       "       35.58577461, 41.44780807, 35.66776109, 41.24284187, 39.41864264,\n",
       "       37.73791976, 38.88573051, 38.41430824, 34.95037938, 36.44663267,\n",
       "       34.99137262, 38.55778458, 40.48446691, 42.08320331, 38.14785217,\n",
       "       35.36031179, 36.83606846, 39.43913926, 40.8739027 , 38.45530148,\n",
       "       35.27832531, 40.7714196 , 35.79074082, 35.19633882, 36.89755832,\n",
       "       39.3776494 , 38.72175755, 34.72491655, 41.11986214, 35.81123744,\n",
       "       33.10568353, 42.08320331, 42.08320331, 36.34414957, 39.41864264,\n",
       "       36.89755832, 35.33981517, 39.52112575, 38.59877782, 38.373315  ,\n",
       "       39.00871023, 41.03787566, 39.21367644, 39.64410547, 39.50062913,\n",
       "       39.0702001 , 41.28383511, 41.26333849, 41.71426414, 41.32482835,\n",
       "       39.48013251, 42.08320331, 38.72175755, 35.03236586, 39.70559533,\n",
       "       38.61927445, 42.08320331, 39.23417306, 36.42613605, 40.34099057,\n",
       "       42.08320331, 41.85774048, 40.99688242, 36.63110226, 41.85774048,\n",
       "       36.59010902, 39.43913926, 42.08320331, 37.86089949, 40.25900408,\n",
       "       35.52428475, 39.95155478, 40.81241284, 41.03787566, 41.24284187,\n",
       "       38.45530148, 35.50378813, 38.49629472, 39.3776494 , 38.49629472,\n",
       "       34.68392331, 38.14785217, 38.72175755, 34.33548076, 35.8727273 ,\n",
       "       38.76275079, 41.24284187, 42.08320331, 36.22116985, 39.3776494 ,\n",
       "       39.35715278, 38.08636231, 37.79940963, 39.35715278, 40.09503112,\n",
       "       35.64726447, 41.05837228, 34.970876  , 39.29566292, 37.16401439,\n",
       "       35.36031179, 40.75092298, 40.05403788, 35.19633882, 33.61809905,\n",
       "       37.3689806 , 40.42297705, 34.92988276, 40.52546015, 38.61927445,\n",
       "       39.00871023, 36.01620364, 38.43480486, 40.44347367, 38.53728796,\n",
       "       38.96771699, 34.84789628, 39.35715278])"
      ]
     },
     "execution_count": 127,
     "metadata": {},
     "output_type": "execute_result"
    }
   ],
   "source": [
    "y_pred"
   ]
  },
  {
   "cell_type": "code",
   "execution_count": 128,
   "metadata": {
    "ExecuteTime": {
     "end_time": "2020-08-16T17:37:29.048783Z",
     "start_time": "2020-08-16T17:37:28.940105Z"
    }
   },
   "outputs": [
    {
     "data": {
      "text/plain": [
       "array([42. , 13. , 49.3, 12.2, 36.5, 25.9, 48.1, 37.9, 48.6, 22.3, 13.2,\n",
       "       53.7, 30. , 27.3, 40.2, 31.3, 25.7, 19.2, 55.3, 22.9, 18.8, 47.7,\n",
       "       20.7, 62.1, 39. , 27.7, 46.1, 22.1, 44.3, 41. , 41.2, 27.7, 38.4,\n",
       "       43.5, 32.9, 38.6, 15.6, 42.5, 52.7, 37.4, 46.1, 59.5, 18.3, 41.9,\n",
       "       17.7, 34.3, 24.7, 36.8, 44.8, 48.5, 42.7, 52.2, 45.7, 40.8, 39.3,\n",
       "       30.6, 47.1, 34.1, 30.7, 29.7, 20.9, 28.9, 42.6, 28.4, 42.5, 30.5,\n",
       "       31.7, 30.7, 27. , 41.6, 28.5, 45.5, 40.6, 34.1, 55.9, 18.3, 44.9,\n",
       "       27.3, 37.4, 56.8, 50.8, 45.1, 63.2, 37.5, 51.8, 35.5, 33.1, 63.3,\n",
       "       46.4, 22. , 12.8, 33.6, 58. , 35.6, 31.3, 28.8, 27. , 25.3, 42.3,\n",
       "       38.2, 34.7, 47. , 53. , 39.7, 22.6, 46.2, 51.7, 70.1, 42.5, 29.3,\n",
       "       42.4, 42.2, 25.7, 31.3, 49.3, 21.5, 43.1, 41.1, 40.1, 14.4, 48.2,\n",
       "       40.9, 23.1, 42.9, 35.1, 37.2, 51.6, 39.7, 27.7, 20.7, 34.4, 37.5,\n",
       "       23.7, 51.8, 43.9, 34.6, 42.3, 42. ])"
      ]
     },
     "execution_count": 128,
     "metadata": {},
     "output_type": "execute_result"
    }
   ],
   "source": [
    "y_test"
   ]
  },
  {
   "cell_type": "markdown",
   "metadata": {},
   "source": [
    "## Visualizing the training set results."
   ]
  },
  {
   "cell_type": "code",
   "execution_count": 129,
   "metadata": {
    "ExecuteTime": {
     "end_time": "2020-08-16T17:37:29.304849Z",
     "start_time": "2020-08-16T17:37:29.053481Z"
    }
   },
   "outputs": [
    {
     "data": {
      "image/png": "[encoded data removed]",
      "text/plain": [
       "<Figure size 720x432 with 1 Axes>"
      ]
     },
     "metadata": {
      "needs_background": "light"
     },
     "output_type": "display_data"
    }
   ],
   "source": [
    "plt.subplots(figsize=(10,6))\n",
    "plt.scatter(X_train, y_train, color = 'magenta')\n",
    "plt.plot(X_train, lin_reg.predict(X_train), color = 'blue')\n",
    "plt.title('House Price vs House Age (Training set)')\n",
    "plt.xlabel('House Age (in Years)')\n",
    "plt.ylabel('House Price per Unit Area')\n",
    "plt.show()"
   ]
  },
  {
   "cell_type": "markdown",
   "metadata": {
    "ExecuteTime": {
     "end_time": "2020-08-14T11:22:11.463621Z",
     "start_time": "2020-08-14T11:22:11.449082Z"
    }
   },
   "source": [
    "## Visualizing the test set results."
   ]
  },
  {
   "cell_type": "code",
   "execution_count": 130,
   "metadata": {
    "ExecuteTime": {
     "end_time": "2020-08-16T17:37:29.475382Z",
     "start_time": "2020-08-16T17:37:29.306736Z"
    }
   },
   "outputs": [
    {
     "data": {
      "image/png": "[encoded data removed]",
      "text/plain": [
       "<Figure size 720x432 with 1 Axes>"
      ]
     },
     "metadata": {
      "needs_background": "light"
     },
     "output_type": "display_data"
    }
   ],
   "source": [
    "plt.subplots(figsize=(10,6))\n",
    "plt.scatter(X_test,y_test, color = 'magenta')\n",
    "plt.plot(X_train, lin_reg.predict(X_train), color = 'blue')\n",
    "plt.title('House Price vs House Age (Test set)')\n",
    "plt.xlabel('House Age (in Years)')\n",
    "plt.ylabel('House Price per Unit Area')\n",
    "plt.show()"
   ]
  },
  {
   "cell_type": "markdown",
   "metadata": {
    "ExecuteTime": {
     "end_time": "2020-08-14T13:01:29.897499Z",
     "start_time": "2020-08-14T13:01:29.880884Z"
    }
   },
   "source": [
    "# Training the linear regression model on the whole dataset."
   ]
  },
  {
   "cell_type": "code",
   "execution_count": 131,
   "metadata": {
    "ExecuteTime": {
     "end_time": "2020-08-16T17:37:29.483749Z",
     "start_time": "2020-08-16T17:37:29.477313Z"
    }
   },
   "outputs": [
    {
     "data": {
      "text/plain": [
       "LinearRegression()"
      ]
     },
     "execution_count": 131,
     "metadata": {},
     "output_type": "execute_result"
    }
   ],
   "source": [
    "from sklearn.linear_model import LinearRegression\n",
    "lin_reg = LinearRegression()\n",
    "lin_reg.fit(X, y)"
   ]
  },
  {
   "cell_type": "markdown",
   "metadata": {},
   "source": [
    "## Visualizing the linear regression results."
   ]
  },
  {
   "cell_type": "code",
   "execution_count": 132,
   "metadata": {
    "ExecuteTime": {
     "end_time": "2020-08-16T17:37:29.756146Z",
     "start_time": "2020-08-16T17:37:29.486201Z"
    }
   },
   "outputs": [
    {
     "data": {
      "image/png": "[encoded data removed]",
      "text/plain": [
       "<Figure size 720x432 with 1 Axes>"
      ]
     },
     "metadata": {
      "needs_background": "light"
     },
     "output_type": "display_data"
    }
   ],
   "source": [
    "plt.subplots(figsize=(10,6))\n",
    "plt.scatter(X, y, color = 'red')\n",
    "plt.plot(X, lin_reg.predict(X), color = 'blue')\n",
    "plt.title('House Price vs House Age')\n",
    "plt.xlabel('House Age')\n",
    "plt.ylabel('House Price per Unit Area')\n",
    "plt.show()"
   ]
  },
  {
   "cell_type": "markdown",
   "metadata": {
    "ExecuteTime": {
     "end_time": "2020-08-14T11:46:13.524253Z",
     "start_time": "2020-08-14T11:46:13.513243Z"
    }
   },
   "source": [
    "# Another approach.\n",
    "* Considering the house price per unit area and the distance to the nearest MRT station (in meters)."
   ]
  },
  {
   "cell_type": "code",
   "execution_count": 68,
   "metadata": {
    "ExecuteTime": {
     "end_time": "2020-08-16T16:45:42.200745Z",
     "start_time": "2020-08-16T16:45:42.196435Z"
    }
   },
   "outputs": [],
   "source": [
    "X1 = data.iloc[:, 3].values\n",
    "y1 = data.iloc[:, 7].values"
   ]
  },
  {
   "cell_type": "code",
   "execution_count": 69,
   "metadata": {
    "ExecuteTime": {
     "end_time": "2020-08-16T16:45:42.299231Z",
     "start_time": "2020-08-16T16:45:42.202472Z"
    }
   },
   "outputs": [
    {
     "data": {
      "text/plain": [
       "(414,)"
      ]
     },
     "execution_count": 69,
     "metadata": {},
     "output_type": "execute_result"
    }
   ],
   "source": [
    "X1.shape"
   ]
  },
  {
   "cell_type": "code",
   "execution_count": 70,
   "metadata": {
    "ExecuteTime": {
     "end_time": "2020-08-16T16:45:42.383110Z",
     "start_time": "2020-08-16T16:45:42.305178Z"
    }
   },
   "outputs": [],
   "source": [
    "X1=X1.reshape(-1,1)"
   ]
  },
  {
   "cell_type": "markdown",
   "metadata": {},
   "source": [
    "## Splitting data into training set and test set."
   ]
  },
  {
   "cell_type": "code",
   "execution_count": 71,
   "metadata": {
    "ExecuteTime": {
     "end_time": "2020-08-16T16:45:42.471788Z",
     "start_time": "2020-08-16T16:45:42.386053Z"
    }
   },
   "outputs": [],
   "source": [
    "from sklearn.model_selection import train_test_split\n",
    "X1_train, X1_test, y1_train, y1_test = train_test_split(X1, y1, test_size = 1/3, random_state = 0)"
   ]
  },
  {
   "cell_type": "markdown",
   "metadata": {},
   "source": [
    "## Applying simple regression model to the training set."
   ]
  },
  {
   "cell_type": "code",
   "execution_count": 72,
   "metadata": {
    "ExecuteTime": {
     "end_time": "2020-08-16T16:45:42.605656Z",
     "start_time": "2020-08-16T16:45:42.473913Z"
    }
   },
   "outputs": [
    {
     "data": {
      "text/plain": [
       "LinearRegression()"
      ]
     },
     "execution_count": 72,
     "metadata": {},
     "output_type": "execute_result"
    }
   ],
   "source": [
    "from sklearn.linear_model import LinearRegression\n",
    "lin_reg = LinearRegression()\n",
    "lin_reg.fit(X1_train, y1_train)"
   ]
  },
  {
   "cell_type": "markdown",
   "metadata": {},
   "source": [
    "## Predicting the test set results."
   ]
  },
  {
   "cell_type": "code",
   "execution_count": 73,
   "metadata": {
    "ExecuteTime": {
     "end_time": "2020-08-16T16:45:42.715556Z",
     "start_time": "2020-08-16T16:45:42.610268Z"
    }
   },
   "outputs": [],
   "source": [
    "y1_pred = lin_reg.predict(X1_test)"
   ]
  },
  {
   "cell_type": "code",
   "execution_count": 74,
   "metadata": {
    "ExecuteTime": {
     "end_time": "2020-08-16T16:45:42.910801Z",
     "start_time": "2020-08-16T16:45:42.720154Z"
    }
   },
   "outputs": [
    {
     "data": {
      "text/plain": [
       "array([45.22921188, 15.13655516, 44.1609171 , -1.33936068, 44.05641964,\n",
       "       33.58169799, 45.45505559, 45.19659623, 45.13549415, 39.02408335,\n",
       "       12.79127039, 44.64040612, 43.40372002, 33.42573029, 44.59994413,\n",
       "       32.05203674, 26.54332614, 15.13655516, 45.19659623, 32.08755206,\n",
       "        5.28600698, 42.25547906, 33.41078239, 46.16281782, 41.09492762,\n",
       "       30.21348963, 44.41814241, 33.22515866, 45.16205796, 43.63371468,\n",
       "       23.46976006, 30.28280444, 45.8006526 , 44.53285839, 43.13107327,\n",
       "       43.75499949, 12.72135616, 42.89782829, 45.90820288, 43.95714234,\n",
       "       45.67390563, 45.90820288, 37.10974026, 43.80430659, 26.30033093,\n",
       "       37.85819937, 34.27174414, 41.96746856, 43.68050798, 43.35578034,\n",
       "       46.15446198, 45.19659623, 45.02455748, 43.7940064 , 42.89782829,\n",
       "       34.71963426, 45.9318336 , 38.01106509, 35.45860014, 40.30916619,\n",
       "       32.88694643, 34.89867193, 43.29778772, 36.39487085, 43.71416212,\n",
       "       33.71957834, 30.49635341, 30.49635341, 35.67812827, 42.25547906,\n",
       "       45.181216  , 45.19659623, 43.66514948, 42.74381019, 45.07323445,\n",
       "       16.1163134 , 44.04618239, 16.02017478, 42.72638895, 45.8006526 ,\n",
       "       44.04618239, 45.13549415, 44.64040612, 42.96880798, 44.11356559,\n",
       "       42.96880798, 45.181216  , 44.39062179, 41.05698992, 23.52216389,\n",
       "       37.91859789, 44.5146167 , 45.90820288, 32.59537616, 30.49635341,\n",
       "       40.30916619, 35.80714478, 39.12508173, 42.89782829, 39.35739836,\n",
       "       42.69379953, 42.40895544, 44.41814241, 42.15831619, 12.79127039,\n",
       "       44.41814241, 44.24152863, 44.39062179, 45.10890037, 45.31123953,\n",
       "       44.06802131, 44.28874452, 30.21348963, 42.89782829, 43.42795286,\n",
       "       35.74190599, 43.65955619, 42.96880798, 42.89782829, 12.66143717,\n",
       "       45.0561766 , 43.7674321 , 30.83314202, 44.55627227, 43.57479671,\n",
       "       45.60446119, 45.8006526 , 45.24137101, 30.28915075, 16.1163134 ,\n",
       "       43.71416212, 42.57342733, 33.22515866, 45.8006526 , 43.25821062,\n",
       "       43.13107327, 41.96617158, 44.7080628 ])"
      ]
     },
     "execution_count": 74,
     "metadata": {},
     "output_type": "execute_result"
    }
   ],
   "source": [
    "y1_pred"
   ]
  },
  {
   "cell_type": "code",
   "execution_count": 75,
   "metadata": {
    "ExecuteTime": {
     "end_time": "2020-08-16T16:45:42.996230Z",
     "start_time": "2020-08-16T16:45:42.917779Z"
    }
   },
   "outputs": [
    {
     "data": {
      "text/plain": [
       "array([42. , 13. , 49.3, 12.2, 36.5, 25.9, 48.1, 37.9, 48.6, 22.3, 13.2,\n",
       "       53.7, 30. , 27.3, 40.2, 31.3, 25.7, 19.2, 55.3, 22.9, 18.8, 47.7,\n",
       "       20.7, 62.1, 39. , 27.7, 46.1, 22.1, 44.3, 41. , 41.2, 27.7, 38.4,\n",
       "       43.5, 32.9, 38.6, 15.6, 42.5, 52.7, 37.4, 46.1, 59.5, 18.3, 41.9,\n",
       "       17.7, 34.3, 24.7, 36.8, 44.8, 48.5, 42.7, 52.2, 45.7, 40.8, 39.3,\n",
       "       30.6, 47.1, 34.1, 30.7, 29.7, 20.9, 28.9, 42.6, 28.4, 42.5, 30.5,\n",
       "       31.7, 30.7, 27. , 41.6, 28.5, 45.5, 40.6, 34.1, 55.9, 18.3, 44.9,\n",
       "       27.3, 37.4, 56.8, 50.8, 45.1, 63.2, 37.5, 51.8, 35.5, 33.1, 63.3,\n",
       "       46.4, 22. , 12.8, 33.6, 58. , 35.6, 31.3, 28.8, 27. , 25.3, 42.3,\n",
       "       38.2, 34.7, 47. , 53. , 39.7, 22.6, 46.2, 51.7, 70.1, 42.5, 29.3,\n",
       "       42.4, 42.2, 25.7, 31.3, 49.3, 21.5, 43.1, 41.1, 40.1, 14.4, 48.2,\n",
       "       40.9, 23.1, 42.9, 35.1, 37.2, 51.6, 39.7, 27.7, 20.7, 34.4, 37.5,\n",
       "       23.7, 51.8, 43.9, 34.6, 42.3, 42. ])"
      ]
     },
     "execution_count": 75,
     "metadata": {},
     "output_type": "execute_result"
    }
   ],
   "source": [
    "y1_test"
   ]
  },
  {
   "cell_type": "markdown",
   "metadata": {},
   "source": [
    "## Visualizing the training and test set results."
   ]
  },
  {
   "cell_type": "code",
   "execution_count": 76,
   "metadata": {
    "ExecuteTime": {
     "end_time": "2020-08-16T16:45:43.273124Z",
     "start_time": "2020-08-16T16:45:42.998273Z"
    }
   },
   "outputs": [
    {
     "data": {
      "image/png": "[encoded data removed]",
      "text/plain": [
       "<Figure size 720x432 with 1 Axes>"
      ]
     },
     "metadata": {
      "needs_background": "light"
     },
     "output_type": "display_data"
    }
   ],
   "source": [
    "plt.subplots(figsize=(10,6))\n",
    "plt.scatter(X1_train, y1_train, color = 'red')\n",
    "plt.plot(X1_train, lin_reg.predict(X1_train), color = 'blue')\n",
    "plt.title('House Price vs Distance to the nearest MRT station (Training set)')\n",
    "plt.xlabel('The distance to the nearest MRT station (meters) ')\n",
    "plt.ylabel('House Price per Unit Area')\n",
    "plt.show()"
   ]
  },
  {
   "cell_type": "code",
   "execution_count": 77,
   "metadata": {
    "ExecuteTime": {
     "end_time": "2020-08-16T16:45:43.449190Z",
     "start_time": "2020-08-16T16:45:43.275398Z"
    }
   },
   "outputs": [
    {
     "data": {
      "image/png": "[encoded data removed]",
      "text/plain": [
       "<Figure size 720x432 with 1 Axes>"
      ]
     },
     "metadata": {
      "needs_background": "light"
     },
     "output_type": "display_data"
    }
   ],
   "source": [
    "plt.subplots(figsize=(10,6))\n",
    "plt.scatter(X1_test, y1_test, color = 'red')\n",
    "plt.plot(X1_train, lin_reg.predict(X1_train), color = 'blue')\n",
    "plt.title('House Price vs Distance to the nearest MRT station (Test set)')\n",
    "plt.xlabel('House Age (in Years)')\n",
    "plt.ylabel('The distance to the nearest MRT station (meters)')\n",
    "plt.show()"
   ]
  },
  {
   "cell_type": "markdown",
   "metadata": {},
   "source": [
    "# Polynomial Regression"
   ]
  },
  {
   "cell_type": "markdown",
   "metadata": {},
   "source": [
    "## Training the Polynomial Regression model on the whole dataset"
   ]
  },
  {
   "cell_type": "code",
   "execution_count": 78,
   "metadata": {
    "ExecuteTime": {
     "end_time": "2020-08-16T16:45:43.458587Z",
     "start_time": "2020-08-16T16:45:43.451168Z"
    }
   },
   "outputs": [
    {
     "data": {
      "text/plain": [
       "LinearRegression()"
      ]
     },
     "execution_count": 78,
     "metadata": {},
     "output_type": "execute_result"
    }
   ],
   "source": [
    "from sklearn.preprocessing import PolynomialFeatures\n",
    "poly_reg_2 = PolynomialFeatures(degree = 2)\n",
    "X_poly_2 = poly_reg_2.fit_transform(X)\n",
    "lin_reg_2= LinearRegression()\n",
    "lin_reg_2.fit(X_poly_2, y)"
   ]
  },
  {
   "cell_type": "code",
   "execution_count": 79,
   "metadata": {
    "ExecuteTime": {
     "end_time": "2020-08-16T16:45:43.551078Z",
     "start_time": "2020-08-16T16:45:43.460414Z"
    }
   },
   "outputs": [
    {
     "data": {
      "text/plain": [
       "LinearRegression()"
      ]
     },
     "execution_count": 79,
     "metadata": {},
     "output_type": "execute_result"
    }
   ],
   "source": [
    "from sklearn.preprocessing import PolynomialFeatures\n",
    "poly_reg_3 = PolynomialFeatures(degree = 3)\n",
    "X_poly_3 = poly_reg_3.fit_transform(X)\n",
    "lin_reg_3= LinearRegression()\n",
    "lin_reg_3.fit(X_poly_3, y)"
   ]
  },
  {
   "cell_type": "code",
   "execution_count": 80,
   "metadata": {
    "ExecuteTime": {
     "end_time": "2020-08-16T16:45:43.641272Z",
     "start_time": "2020-08-16T16:45:43.552707Z"
    }
   },
   "outputs": [
    {
     "data": {
      "text/plain": [
       "LinearRegression()"
      ]
     },
     "execution_count": 80,
     "metadata": {},
     "output_type": "execute_result"
    }
   ],
   "source": [
    "from sklearn.preprocessing import PolynomialFeatures\n",
    "poly_reg_50 = PolynomialFeatures(degree = 50)\n",
    "X_poly_50 = poly_reg_50.fit_transform(X)\n",
    "lin_reg_50= LinearRegression()\n",
    "lin_reg_50.fit(X_poly_50, y)"
   ]
  },
  {
   "cell_type": "markdown",
   "metadata": {},
   "source": [
    "## Visualizing polynomial regression results."
   ]
  },
  {
   "cell_type": "code",
   "execution_count": 81,
   "metadata": {
    "ExecuteTime": {
     "end_time": "2020-08-16T16:45:46.928947Z",
     "start_time": "2020-08-16T16:45:46.698036Z"
    }
   },
   "outputs": [
    {
     "data": {
      "image/png": "[encoded data removed]",
      "text/plain": [
       "<Figure size 720x432 with 1 Axes>"
      ]
     },
     "metadata": {
      "needs_background": "light"
     },
     "output_type": "display_data"
    }
   ],
   "source": [
    "plt.subplots(figsize=(10,6))\n",
    "plt.scatter(X, y, color = 'red')\n",
    "plt.plot(X, lin_reg.predict(X), color = 'orange')\n",
    "plt.plot(X, lin_reg_2.predict(X_poly_2), color = 'blue')\n",
    "plt.plot(X, lin_reg_3.predict(X_poly_3), color = 'magenta')\n",
    "plt.plot(X, lin_reg_50.predict(X_poly_50), color = 'green')\n",
    "plt.title('House Price vs House Age')\n",
    "plt.xlabel('House Age (in years)')\n",
    "plt.ylabel('House Price per Unit Area')\n",
    "plt.legend(['whole data','lin_reg','degree=2', 'degree=3', 'degree=50'], loc='upper left')\n",
    "plt.show()"
   ]
  },
  {
   "cell_type": "markdown",
   "metadata": {},
   "source": [
    "# Logistic Regression"
   ]
  },
  {
   "cell_type": "markdown",
   "metadata": {
    "ExecuteTime": {
     "end_time": "2020-08-14T19:41:34.028069Z",
     "start_time": "2020-08-14T19:41:34.020029Z"
    }
   },
   "source": [
    "The [data](https://archive.ics.uci.edu/ml/datasets/Heart+Disease) contains the heart desease dataset of the Cleveland."
   ]
  },
  {
   "cell_type": "code",
   "execution_count": 32,
   "metadata": {
    "ExecuteTime": {
     "end_time": "2020-08-16T16:45:09.530590Z",
     "start_time": "2020-08-16T16:45:09.520565Z"
    }
   },
   "outputs": [],
   "source": [
    "data_log=pd.read_csv(\"processed_cleveland.data\")\n",
    "X_log = data_log.iloc[:, [0,4]].values\n",
    "y_log = data_log.iloc[:, 13].values"
   ]
  },
  {
   "cell_type": "code",
   "execution_count": 33,
   "metadata": {
    "ExecuteTime": {
     "end_time": "2020-08-16T16:45:09.635744Z",
     "start_time": "2020-08-16T16:45:09.532379Z"
    }
   },
   "outputs": [
    {
     "data": {
      "text/html": [
       "<div>\n",
       "<style scoped>\n",
       "    .dataframe tbody tr th:only-of-type {\n",
       "        vertical-align: middle;\n",
       "    }\n",
       "\n",
       "    .dataframe tbody tr th {\n",
       "        vertical-align: top;\n",
       "    }\n",
       "\n",
       "    .dataframe thead th {\n",
       "        text-align: right;\n",
       "    }\n",
       "</style>\n",
       "<table border=\"1\" class=\"dataframe\">\n",
       "  <thead>\n",
       "    <tr style=\"text-align: right;\">\n",
       "      <th></th>\n",
       "      <th>age</th>\n",
       "      <th>sex</th>\n",
       "      <th>chest_pain_type</th>\n",
       "      <th>resting_blood_pressure</th>\n",
       "      <th>cholestoral</th>\n",
       "      <th>fasting_blood_sugar</th>\n",
       "      <th>resting_ecg</th>\n",
       "      <th>max_heart_rate</th>\n",
       "      <th>angina</th>\n",
       "      <th>oldpeak</th>\n",
       "      <th>slope</th>\n",
       "      <th>ca</th>\n",
       "      <th>thal</th>\n",
       "      <th>diagnosis</th>\n",
       "    </tr>\n",
       "  </thead>\n",
       "  <tbody>\n",
       "    <tr>\n",
       "      <th>0</th>\n",
       "      <td>63.0</td>\n",
       "      <td>1.0</td>\n",
       "      <td>1.0</td>\n",
       "      <td>145.0</td>\n",
       "      <td>233.0</td>\n",
       "      <td>1.0</td>\n",
       "      <td>2.0</td>\n",
       "      <td>150.0</td>\n",
       "      <td>0.0</td>\n",
       "      <td>2.3</td>\n",
       "      <td>3.0</td>\n",
       "      <td>0.0</td>\n",
       "      <td>6.0</td>\n",
       "      <td>0</td>\n",
       "    </tr>\n",
       "    <tr>\n",
       "      <th>1</th>\n",
       "      <td>67.0</td>\n",
       "      <td>1.0</td>\n",
       "      <td>4.0</td>\n",
       "      <td>160.0</td>\n",
       "      <td>286.0</td>\n",
       "      <td>0.0</td>\n",
       "      <td>2.0</td>\n",
       "      <td>108.0</td>\n",
       "      <td>1.0</td>\n",
       "      <td>1.5</td>\n",
       "      <td>2.0</td>\n",
       "      <td>3.0</td>\n",
       "      <td>3.0</td>\n",
       "      <td>2</td>\n",
       "    </tr>\n",
       "    <tr>\n",
       "      <th>2</th>\n",
       "      <td>67.0</td>\n",
       "      <td>1.0</td>\n",
       "      <td>4.0</td>\n",
       "      <td>120.0</td>\n",
       "      <td>229.0</td>\n",
       "      <td>0.0</td>\n",
       "      <td>2.0</td>\n",
       "      <td>129.0</td>\n",
       "      <td>1.0</td>\n",
       "      <td>2.6</td>\n",
       "      <td>2.0</td>\n",
       "      <td>2.0</td>\n",
       "      <td>7.0</td>\n",
       "      <td>1</td>\n",
       "    </tr>\n",
       "    <tr>\n",
       "      <th>3</th>\n",
       "      <td>37.0</td>\n",
       "      <td>1.0</td>\n",
       "      <td>3.0</td>\n",
       "      <td>130.0</td>\n",
       "      <td>250.0</td>\n",
       "      <td>0.0</td>\n",
       "      <td>0.0</td>\n",
       "      <td>187.0</td>\n",
       "      <td>0.0</td>\n",
       "      <td>3.5</td>\n",
       "      <td>3.0</td>\n",
       "      <td>0.0</td>\n",
       "      <td>3.0</td>\n",
       "      <td>0</td>\n",
       "    </tr>\n",
       "    <tr>\n",
       "      <th>4</th>\n",
       "      <td>41.0</td>\n",
       "      <td>0.0</td>\n",
       "      <td>2.0</td>\n",
       "      <td>130.0</td>\n",
       "      <td>204.0</td>\n",
       "      <td>0.0</td>\n",
       "      <td>2.0</td>\n",
       "      <td>172.0</td>\n",
       "      <td>0.0</td>\n",
       "      <td>1.4</td>\n",
       "      <td>1.0</td>\n",
       "      <td>0.0</td>\n",
       "      <td>3.0</td>\n",
       "      <td>0</td>\n",
       "    </tr>\n",
       "    <tr>\n",
       "      <th>...</th>\n",
       "      <td>...</td>\n",
       "      <td>...</td>\n",
       "      <td>...</td>\n",
       "      <td>...</td>\n",
       "      <td>...</td>\n",
       "      <td>...</td>\n",
       "      <td>...</td>\n",
       "      <td>...</td>\n",
       "      <td>...</td>\n",
       "      <td>...</td>\n",
       "      <td>...</td>\n",
       "      <td>...</td>\n",
       "      <td>...</td>\n",
       "      <td>...</td>\n",
       "    </tr>\n",
       "    <tr>\n",
       "      <th>298</th>\n",
       "      <td>45.0</td>\n",
       "      <td>1.0</td>\n",
       "      <td>1.0</td>\n",
       "      <td>110.0</td>\n",
       "      <td>264.0</td>\n",
       "      <td>0.0</td>\n",
       "      <td>0.0</td>\n",
       "      <td>132.0</td>\n",
       "      <td>0.0</td>\n",
       "      <td>1.2</td>\n",
       "      <td>2.0</td>\n",
       "      <td>0.0</td>\n",
       "      <td>7.0</td>\n",
       "      <td>1</td>\n",
       "    </tr>\n",
       "    <tr>\n",
       "      <th>299</th>\n",
       "      <td>68.0</td>\n",
       "      <td>1.0</td>\n",
       "      <td>4.0</td>\n",
       "      <td>144.0</td>\n",
       "      <td>193.0</td>\n",
       "      <td>1.0</td>\n",
       "      <td>0.0</td>\n",
       "      <td>141.0</td>\n",
       "      <td>0.0</td>\n",
       "      <td>3.4</td>\n",
       "      <td>2.0</td>\n",
       "      <td>2.0</td>\n",
       "      <td>7.0</td>\n",
       "      <td>2</td>\n",
       "    </tr>\n",
       "    <tr>\n",
       "      <th>300</th>\n",
       "      <td>57.0</td>\n",
       "      <td>1.0</td>\n",
       "      <td>4.0</td>\n",
       "      <td>130.0</td>\n",
       "      <td>131.0</td>\n",
       "      <td>0.0</td>\n",
       "      <td>0.0</td>\n",
       "      <td>115.0</td>\n",
       "      <td>1.0</td>\n",
       "      <td>1.2</td>\n",
       "      <td>2.0</td>\n",
       "      <td>1.0</td>\n",
       "      <td>7.0</td>\n",
       "      <td>3</td>\n",
       "    </tr>\n",
       "    <tr>\n",
       "      <th>301</th>\n",
       "      <td>57.0</td>\n",
       "      <td>0.0</td>\n",
       "      <td>2.0</td>\n",
       "      <td>130.0</td>\n",
       "      <td>236.0</td>\n",
       "      <td>0.0</td>\n",
       "      <td>2.0</td>\n",
       "      <td>174.0</td>\n",
       "      <td>0.0</td>\n",
       "      <td>0.0</td>\n",
       "      <td>2.0</td>\n",
       "      <td>1.0</td>\n",
       "      <td>3.0</td>\n",
       "      <td>1</td>\n",
       "    </tr>\n",
       "    <tr>\n",
       "      <th>302</th>\n",
       "      <td>38.0</td>\n",
       "      <td>1.0</td>\n",
       "      <td>3.0</td>\n",
       "      <td>138.0</td>\n",
       "      <td>175.0</td>\n",
       "      <td>0.0</td>\n",
       "      <td>0.0</td>\n",
       "      <td>173.0</td>\n",
       "      <td>0.0</td>\n",
       "      <td>0.0</td>\n",
       "      <td>1.0</td>\n",
       "      <td>?</td>\n",
       "      <td>3.0</td>\n",
       "      <td>0</td>\n",
       "    </tr>\n",
       "  </tbody>\n",
       "</table>\n",
       "<p>303 rows × 14 columns</p>\n",
       "</div>"
      ],
      "text/plain": [
       "      age  sex  chest_pain_type  resting_blood_pressure  cholestoral  \\\n",
       "0    63.0  1.0              1.0                   145.0        233.0   \n",
       "1    67.0  1.0              4.0                   160.0        286.0   \n",
       "2    67.0  1.0              4.0                   120.0        229.0   \n",
       "3    37.0  1.0              3.0                   130.0        250.0   \n",
       "4    41.0  0.0              2.0                   130.0        204.0   \n",
       "..    ...  ...              ...                     ...          ...   \n",
       "298  45.0  1.0              1.0                   110.0        264.0   \n",
       "299  68.0  1.0              4.0                   144.0        193.0   \n",
       "300  57.0  1.0              4.0                   130.0        131.0   \n",
       "301  57.0  0.0              2.0                   130.0        236.0   \n",
       "302  38.0  1.0              3.0                   138.0        175.0   \n",
       "\n",
       "     fasting_blood_sugar  resting_ecg  max_heart_rate  angina  oldpeak  slope  \\\n",
       "0                    1.0          2.0           150.0     0.0      2.3    3.0   \n",
       "1                    0.0          2.0           108.0     1.0      1.5    2.0   \n",
       "2                    0.0          2.0           129.0     1.0      2.6    2.0   \n",
       "3                    0.0          0.0           187.0     0.0      3.5    3.0   \n",
       "4                    0.0          2.0           172.0     0.0      1.4    1.0   \n",
       "..                   ...          ...             ...     ...      ...    ...   \n",
       "298                  0.0          0.0           132.0     0.0      1.2    2.0   \n",
       "299                  1.0          0.0           141.0     0.0      3.4    2.0   \n",
       "300                  0.0          0.0           115.0     1.0      1.2    2.0   \n",
       "301                  0.0          2.0           174.0     0.0      0.0    2.0   \n",
       "302                  0.0          0.0           173.0     0.0      0.0    1.0   \n",
       "\n",
       "      ca thal  diagnosis   \n",
       "0    0.0  6.0           0  \n",
       "1    3.0  3.0           2  \n",
       "2    2.0  7.0           1  \n",
       "3    0.0  3.0           0  \n",
       "4    0.0  3.0           0  \n",
       "..   ...  ...         ...  \n",
       "298  0.0  7.0           1  \n",
       "299  2.0  7.0           2  \n",
       "300  1.0  7.0           3  \n",
       "301  1.0  3.0           1  \n",
       "302    ?  3.0           0  \n",
       "\n",
       "[303 rows x 14 columns]"
      ]
     },
     "execution_count": 33,
     "metadata": {},
     "output_type": "execute_result"
    }
   ],
   "source": [
    "data_log"
   ]
  },
  {
   "cell_type": "code",
   "execution_count": 34,
   "metadata": {
    "ExecuteTime": {
     "end_time": "2020-08-16T16:45:09.713651Z",
     "start_time": "2020-08-16T16:45:09.638198Z"
    }
   },
   "outputs": [
    {
     "name": "stdout",
     "output_type": "stream",
     "text": [
      "<class 'pandas.core.frame.DataFrame'>\n",
      "RangeIndex: 303 entries, 0 to 302\n",
      "Data columns (total 14 columns):\n",
      " #   Column                  Non-Null Count  Dtype  \n",
      "---  ------                  --------------  -----  \n",
      " 0   age                     303 non-null    float64\n",
      " 1   sex                     303 non-null    float64\n",
      " 2   chest_pain_type         303 non-null    float64\n",
      " 3   resting_blood_pressure  303 non-null    float64\n",
      " 4   cholestoral             303 non-null    float64\n",
      " 5   fasting_blood_sugar     303 non-null    float64\n",
      " 6   resting_ecg             303 non-null    float64\n",
      " 7   max_heart_rate          303 non-null    float64\n",
      " 8   angina                  303 non-null    float64\n",
      " 9   oldpeak                 303 non-null    float64\n",
      " 10  slope                   303 non-null    float64\n",
      " 11  ca                      303 non-null    object \n",
      " 12  thal                    303 non-null    object \n",
      " 13  diagnosis               303 non-null    int64  \n",
      "dtypes: float64(11), int64(1), object(2)\n",
      "memory usage: 33.3+ KB\n"
     ]
    }
   ],
   "source": [
    "data_log.info()"
   ]
  },
  {
   "cell_type": "code",
   "execution_count": 35,
   "metadata": {
    "ExecuteTime": {
     "end_time": "2020-08-16T16:45:09.798884Z",
     "start_time": "2020-08-16T16:45:09.716982Z"
    }
   },
   "outputs": [
    {
     "data": {
      "text/plain": [
       "array([0, 2, 1, 0, 0, 0, 3, 0, 2, 1, 0, 0, 2, 0, 0, 0, 1, 0, 0, 0, 0, 0,\n",
       "       1, 3, 4, 0, 0, 0, 0, 3, 0, 2, 1, 0, 0, 0, 3, 1, 3, 0, 4, 0, 0, 0,\n",
       "       1, 4, 0, 4, 0, 0, 0, 0, 2, 0, 1, 1, 1, 1, 0, 0, 2, 0, 1, 0, 2, 2,\n",
       "       1, 0, 2, 1, 0, 3, 1, 1, 1, 0, 1, 0, 0, 3, 0, 0, 0, 3, 0, 0, 0, 0,\n",
       "       0, 0, 0, 3, 0, 0, 0, 1, 2, 3, 0, 0, 0, 0, 0, 0, 3, 0, 2, 1, 2, 3,\n",
       "       1, 1, 0, 2, 2, 0, 0, 0, 3, 2, 3, 4, 0, 3, 1, 0, 3, 3, 0, 0, 0, 0,\n",
       "       0, 0, 0, 0, 4, 3, 1, 0, 0, 1, 0, 1, 0, 1, 4, 0, 0, 0, 0, 0, 0, 4,\n",
       "       3, 1, 1, 1, 2, 0, 0, 4, 0, 0, 0, 0, 0, 0, 1, 0, 3, 0, 1, 0, 4, 1,\n",
       "       0, 1, 0, 0, 3, 2, 0, 0, 1, 0, 0, 2, 1, 2, 0, 3, 1, 2, 0, 3, 0, 0,\n",
       "       0, 1, 0, 0, 0, 0, 0, 3, 3, 3, 0, 1, 0, 4, 0, 3, 1, 0, 0, 0, 0, 0,\n",
       "       0, 0, 0, 3, 1, 0, 0, 0, 3, 2, 0, 2, 1, 0, 0, 3, 2, 1, 0, 0, 0, 0,\n",
       "       0, 2, 0, 2, 2, 1, 3, 0, 0, 1, 0, 0, 0, 0, 0, 0, 0, 1, 0, 3, 0, 0,\n",
       "       4, 2, 2, 2, 1, 0, 1, 0, 2, 0, 1, 0, 0, 0, 1, 0, 2, 0, 3, 0, 2, 4,\n",
       "       2, 0, 0, 0, 1, 0, 2, 2, 1, 0, 3, 1, 1, 2, 3, 1, 0])"
      ]
     },
     "execution_count": 35,
     "metadata": {},
     "output_type": "execute_result"
    }
   ],
   "source": [
    "y_log"
   ]
  },
  {
   "cell_type": "code",
   "execution_count": 36,
   "metadata": {
    "ExecuteTime": {
     "end_time": "2020-08-16T16:45:09.905049Z",
     "start_time": "2020-08-16T16:45:09.803197Z"
    }
   },
   "outputs": [
    {
     "data": {
      "text/plain": [
       "array([0, 1, 0, 0, 0, 0, 1, 0, 1, 0, 0, 0, 1, 0, 0, 0, 0, 0, 0, 0, 0, 0,\n",
       "       0, 1, 1, 0, 0, 0, 0, 1, 0, 1, 0, 0, 0, 0, 1, 0, 1, 0, 1, 0, 0, 0,\n",
       "       0, 1, 0, 1, 0, 0, 0, 0, 1, 0, 0, 0, 0, 0, 0, 0, 1, 0, 0, 0, 1, 1,\n",
       "       0, 0, 1, 0, 0, 1, 0, 0, 0, 0, 0, 0, 0, 1, 0, 0, 0, 1, 0, 0, 0, 0,\n",
       "       0, 0, 0, 1, 0, 0, 0, 0, 1, 1, 0, 0, 0, 0, 0, 0, 1, 0, 1, 0, 1, 1,\n",
       "       0, 0, 0, 1, 1, 0, 0, 0, 1, 1, 1, 1, 0, 1, 0, 0, 1, 1, 0, 0, 0, 0,\n",
       "       0, 0, 0, 0, 1, 1, 0, 0, 0, 0, 0, 0, 0, 0, 1, 0, 0, 0, 0, 0, 0, 1,\n",
       "       1, 0, 0, 0, 1, 0, 0, 1, 0, 0, 0, 0, 0, 0, 0, 0, 1, 0, 0, 0, 1, 0,\n",
       "       0, 0, 0, 0, 1, 1, 0, 0, 0, 0, 0, 1, 0, 1, 0, 1, 0, 1, 0, 1, 0, 0,\n",
       "       0, 0, 0, 0, 0, 0, 0, 1, 1, 1, 0, 0, 0, 1, 0, 1, 0, 0, 0, 0, 0, 0,\n",
       "       0, 0, 0, 1, 0, 0, 0, 0, 1, 1, 0, 1, 0, 0, 0, 1, 1, 0, 0, 0, 0, 0,\n",
       "       0, 1, 0, 1, 1, 0, 1, 0, 0, 0, 0, 0, 0, 0, 0, 0, 0, 0, 0, 1, 0, 0,\n",
       "       1, 1, 1, 1, 0, 0, 0, 0, 1, 0, 0, 0, 0, 0, 0, 0, 1, 0, 1, 0, 1, 1,\n",
       "       1, 0, 0, 0, 0, 0, 1, 1, 0, 0, 1, 0, 0, 1, 1, 0, 0])"
      ]
     },
     "execution_count": 36,
     "metadata": {},
     "output_type": "execute_result"
    }
   ],
   "source": [
    "y_log= np.where(y_log<2,0,1)\n",
    "y_log"
   ]
  },
  {
   "cell_type": "code",
   "execution_count": 37,
   "metadata": {
    "ExecuteTime": {
     "end_time": "2020-08-16T16:45:09.981788Z",
     "start_time": "2020-08-16T16:45:09.907426Z"
    }
   },
   "outputs": [
    {
     "data": {
      "text/plain": [
       "(303, 2)"
      ]
     },
     "execution_count": 37,
     "metadata": {},
     "output_type": "execute_result"
    }
   ],
   "source": [
    "X_log.shape"
   ]
  },
  {
   "cell_type": "code",
   "execution_count": 38,
   "metadata": {
    "ExecuteTime": {
     "end_time": "2020-08-16T16:45:10.112247Z",
     "start_time": "2020-08-16T16:45:09.983597Z"
    }
   },
   "outputs": [
    {
     "data": {
      "text/plain": [
       "(303,)"
      ]
     },
     "execution_count": 38,
     "metadata": {},
     "output_type": "execute_result"
    }
   ],
   "source": [
    "y_log.shape"
   ]
  },
  {
   "cell_type": "markdown",
   "metadata": {},
   "source": [
    "## Splitting the dataset to training set and test set."
   ]
  },
  {
   "cell_type": "code",
   "execution_count": 99,
   "metadata": {
    "ExecuteTime": {
     "end_time": "2020-08-16T17:23:43.656656Z",
     "start_time": "2020-08-16T17:23:43.648974Z"
    }
   },
   "outputs": [],
   "source": [
    "from sklearn.model_selection import train_test_split\n",
    "X_log_train, X_log_test, y_log_train, y_log_test = train_test_split(X_log, y_log, test_size = 1/3, random_state = 0)"
   ]
  },
  {
   "cell_type": "code",
   "execution_count": 102,
   "metadata": {
    "ExecuteTime": {
     "end_time": "2020-08-16T17:25:24.678935Z",
     "start_time": "2020-08-16T17:25:24.670529Z"
    }
   },
   "outputs": [
    {
     "data": {
      "text/plain": [
       "28"
      ]
     },
     "execution_count": 102,
     "metadata": {},
     "output_type": "execute_result"
    }
   ],
   "source": [
    "y_log_test.sum()"
   ]
  },
  {
   "cell_type": "code",
   "execution_count": 91,
   "metadata": {
    "ExecuteTime": {
     "end_time": "2020-08-16T17:18:15.745111Z",
     "start_time": "2020-08-16T17:18:15.728800Z"
    }
   },
   "outputs": [],
   "source": [
    "from sklearn.preprocessing import StandardScaler\n",
    "sc = StandardScaler()\n",
    "X_log_train = sc.fit_transform(X_log_train)\n",
    "X_log_test = sc.transform(X_log_test)"
   ]
  },
  {
   "cell_type": "markdown",
   "metadata": {},
   "source": [
    "## Training the Logistic Regression model on training data set."
   ]
  },
  {
   "cell_type": "code",
   "execution_count": 41,
   "metadata": {
    "ExecuteTime": {
     "end_time": "2020-08-16T16:45:10.363960Z",
     "start_time": "2020-08-16T16:45:10.280579Z"
    }
   },
   "outputs": [
    {
     "data": {
      "text/plain": [
       "LogisticRegression(random_state=0)"
      ]
     },
     "execution_count": 41,
     "metadata": {},
     "output_type": "execute_result"
    }
   ],
   "source": [
    "from sklearn.linear_model import LogisticRegression\n",
    "classifier = LogisticRegression(random_state = 0)\n",
    "classifier.fit(X_log_train, y_log_train)"
   ]
  },
  {
   "cell_type": "markdown",
   "metadata": {},
   "source": [
    "## Predicting the test set results."
   ]
  },
  {
   "cell_type": "code",
   "execution_count": 42,
   "metadata": {
    "ExecuteTime": {
     "end_time": "2020-08-16T16:45:10.461674Z",
     "start_time": "2020-08-16T16:45:10.366035Z"
    }
   },
   "outputs": [],
   "source": [
    "y_log_pred = classifier.predict(X_log_test)"
   ]
  },
  {
   "cell_type": "markdown",
   "metadata": {},
   "source": [
    "## Visualization of training set results."
   ]
  },
  {
   "cell_type": "code",
   "execution_count": 43,
   "metadata": {
    "ExecuteTime": {
     "end_time": "2020-08-16T16:45:10.852831Z",
     "start_time": "2020-08-16T16:45:10.467100Z"
    }
   },
   "outputs": [
    {
     "name": "stderr",
     "output_type": "stream",
     "text": [
      "*c* argument looks like a single numeric RGB or RGBA sequence, which should be avoided as value-mapping will have precedence in case its length matches with *x* & *y*.  Please use the *color* keyword-argument or provide a 2-D array with a single row if you intend to specify the same RGB or RGBA value for all points.\n",
      "*c* argument looks like a single numeric RGB or RGBA sequence, which should be avoided as value-mapping will have precedence in case its length matches with *x* & *y*.  Please use the *color* keyword-argument or provide a 2-D array with a single row if you intend to specify the same RGB or RGBA value for all points.\n"
     ]
    },
    {
     "data": {
      "image/png": "[encoded data removed]",
      "text/plain": [
       "<Figure size 432x288 with 1 Axes>"
      ]
     },
     "metadata": {
      "needs_background": "light"
     },
     "output_type": "display_data"
    }
   ],
   "source": [
    "from matplotlib.colors import ListedColormap\n",
    "X_set, y_set = X_log_train, y_log_train\n",
    "X1, X2 = np.meshgrid(np.arange(start = X_set[:, 0].min() - 1, stop = X_set[:, 0].max() + 1, step = 0.01),\n",
    "                     np.arange(start = X_set[:, 1].min() - 1, stop = X_set[:, 1].max() + 1, step = 0.01))\n",
    "plt.contourf(X1, X2, classifier.predict(np.array([X1.ravel(), X2.ravel()]).T).reshape(X1.shape),\n",
    "             alpha = 0.75, cmap = ListedColormap(('magenta', 'green')))\n",
    "plt.xlim(X1.min(), X1.max())\n",
    "plt.ylim(X2.min(), X2.max())\n",
    "for i, j in enumerate(np.unique(y_set)):\n",
    "    plt.scatter(X_set[y_set == j, 0], X_set[y_set == j, 1],\n",
    "                c = ListedColormap(('magenta', 'green'))(i), label = j)\n",
    "plt.title('Logistic Regression (Training set)')\n",
    "plt.xlabel('Cholestoral')\n",
    "plt.ylabel('Age')\n",
    "plt.legend()\n",
    "plt.show()"
   ]
  },
  {
   "cell_type": "markdown",
   "metadata": {},
   "source": [
    "## Visualization of test set results."
   ]
  },
  {
   "cell_type": "code",
   "execution_count": 44,
   "metadata": {
    "ExecuteTime": {
     "end_time": "2020-08-16T16:45:11.195504Z",
     "start_time": "2020-08-16T16:45:10.854830Z"
    }
   },
   "outputs": [
    {
     "name": "stderr",
     "output_type": "stream",
     "text": [
      "*c* argument looks like a single numeric RGB or RGBA sequence, which should be avoided as value-mapping will have precedence in case its length matches with *x* & *y*.  Please use the *color* keyword-argument or provide a 2-D array with a single row if you intend to specify the same RGB or RGBA value for all points.\n",
      "*c* argument looks like a single numeric RGB or RGBA sequence, which should be avoided as value-mapping will have precedence in case its length matches with *x* & *y*.  Please use the *color* keyword-argument or provide a 2-D array with a single row if you intend to specify the same RGB or RGBA value for all points.\n"
     ]
    },
    {
     "data": {
      "image/png": "[encoded data removed]",
      "text/plain": [
       "<Figure size 432x288 with 1 Axes>"
      ]
     },
     "metadata": {
      "needs_background": "light"
     },
     "output_type": "display_data"
    }
   ],
   "source": [
    "from matplotlib.colors import ListedColormap\n",
    "X_set, y_set = X_log_test, y_log_test\n",
    "X1, X2 = np.meshgrid(np.arange(start = X_set[:, 0].min() - 1, stop = X_set[:, 0].max() + 1, step = 0.01),\n",
    "                     np.arange(start = X_set[:, 1].min() - 1, stop = X_set[:, 1].max() + 1, step = 0.01))\n",
    "plt.contourf(X1, X2, classifier.predict(np.array([X1.ravel(), X2.ravel()]).T).reshape(X1.shape),\n",
    "             alpha = 0.75, cmap = ListedColormap(('magenta', 'green')))\n",
    "plt.xlim(X1.min(), X1.max())\n",
    "plt.ylim(X2.min(), X2.max())\n",
    "for i, j in enumerate(np.unique(y_set)):\n",
    "    plt.scatter(X_set[y_set == j, 0], X_set[y_set == j, 1],\n",
    "                c = ListedColormap(('magenta', 'green'))(i), label = j)\n",
    "plt.title('Logistic Regression (Test set)')\n",
    "plt.xlabel('Cholestoral')\n",
    "plt.ylabel('Age')\n",
    "plt.legend()\n",
    "plt.show()"
   ]
  },
  {
   "cell_type": "markdown",
   "metadata": {},
   "source": [
    "## Confusion Matrix"
   ]
  },
  {
   "cell_type": "markdown",
   "metadata": {},
   "source": [
    "* A confusion matrix is a table that describes the performance of a classification model on a set of test data for which the actual labels are known."
   ]
  },
  {
   "cell_type": "code",
   "execution_count": 103,
   "metadata": {
    "ExecuteTime": {
     "end_time": "2020-08-16T17:27:15.537832Z",
     "start_time": "2020-08-16T17:27:15.290790Z"
    }
   },
   "outputs": [
    {
     "name": "stdout",
     "output_type": "stream",
     "text": [
      "[[70  3]\n",
      " [28  0]]\n"
     ]
    },
    {
     "data": {
      "text/plain": [
       "Text(33.0, 0.5, 'Actual classes')"
      ]
     },
     "execution_count": 103,
     "metadata": {},
     "output_type": "execute_result"
    },
    {
     "data": {
      "image/png": "[encoded data removed]",
      "text/plain": [
       "<Figure size 432x288 with 2 Axes>"
      ]
     },
     "metadata": {
      "needs_background": "light"
     },
     "output_type": "display_data"
    }
   ],
   "source": [
    "import seaborn as sns\n",
    "from sklearn.metrics import confusion_matrix\n",
    "cm = confusion_matrix(y_log_test,y_log_pred)\n",
    "print(cm)\n",
    "sns.heatmap(cm, annot=True)\n",
    "plt.xlabel('Predicted classes')\n",
    "plt.ylabel('Actual classes')"
   ]
  },
  {
   "cell_type": "markdown",
   "metadata": {},
   "source": [
    "## Accuracy of the model"
   ]
  },
  {
   "cell_type": "code",
   "execution_count": 111,
   "metadata": {
    "ExecuteTime": {
     "end_time": "2020-08-16T17:34:28.591297Z",
     "start_time": "2020-08-16T17:34:28.585365Z"
    }
   },
   "outputs": [
    {
     "name": "stdout",
     "output_type": "stream",
     "text": [
      "0.693069306930693\n"
     ]
    }
   ],
   "source": [
    "from sklearn.metrics import accuracy_score\n",
    "\n",
    "accuracy = accuracy_score(y_log_test.flatten(),y_log_pred)\n",
    "#parameters = classifier.coef_\n",
    "print(accuracy)"
   ]
  },
  {
   "cell_type": "markdown",
   "metadata": {},
   "source": [
    "# Regularized Regression methods.\n",
    "* Regularized machine learning model, is a model that its loss function contains another element that should be minimized."
   ]
  },
  {
   "cell_type": "markdown",
   "metadata": {},
   "source": [
    "## Ridge and Lasso Regression"
   ]
  },
  {
   "cell_type": "markdown",
   "metadata": {},
   "source": [
    "* Ridge and Lasso regression are the simple techniques which reduce the model complexity and prevent over-fitting which may result from simple linear regression.\n",
    "* Ridge regression is an extension for linear regression. It’s basically a regularized linear regression model.\n",
    "* Ridge Loss function, $L = ∑{( Ŷi- Yi)}^2 + α∑{β}^2$\n",
    "* In ridge regression, the cost function is altered by adding a penalty equivalent to square of the magnitude of the coefficients.\n",
    "* Ridge regression shrinks the coefficients and helps to reduce the model complexity and multi-collinearity.\n",
    "* Lower the constraint (low alpha) on the features, the model will resemble linear regression model."
   ]
  },
  {
   "cell_type": "code",
   "execution_count": 208,
   "metadata": {
    "ExecuteTime": {
     "end_time": "2020-08-16T19:14:50.035634Z",
     "start_time": "2020-08-16T19:14:50.021710Z"
    }
   },
   "outputs": [],
   "source": [
    "from sklearn.linear_model import LinearRegression, Ridge\n",
    "\n",
    "data = pd.read_csv('Real_Estate_valuation_data.csv')\n",
    "X_rid = pd.DataFrame(data, columns=['X1','X2','X3','X4'])\n",
    "y_rid = data.iloc[:, 7].values"
   ]
  },
  {
   "cell_type": "markdown",
   "metadata": {},
   "source": [
    "## Standardize and train/test set splitting."
   ]
  },
  {
   "cell_type": "code",
   "execution_count": 209,
   "metadata": {
    "ExecuteTime": {
     "end_time": "2020-08-16T19:14:53.438073Z",
     "start_time": "2020-08-16T19:14:53.427570Z"
    }
   },
   "outputs": [],
   "source": [
    "from sklearn import preprocessing\n",
    "\n",
    "X_rid = preprocessing.scale(X_rid)\n",
    "X_rid_train, X_rid_test, y_rid_train, y_rid_test = train_test_split(\n",
    "   X_rid, y_rid, test_size=0.3, random_state=0)"
   ]
  },
  {
   "cell_type": "markdown",
   "metadata": {},
   "source": [
    "## Training the model.\n",
    "* The model is completely biased (alpha=0)."
   ]
  },
  {
   "cell_type": "code",
   "execution_count": 210,
   "metadata": {
    "ExecuteTime": {
     "end_time": "2020-08-16T19:14:56.293464Z",
     "start_time": "2020-08-16T19:14:56.285365Z"
    }
   },
   "outputs": [
    {
     "data": {
      "text/plain": [
       "Ridge(alpha=0)"
      ]
     },
     "execution_count": 210,
     "metadata": {},
     "output_type": "execute_result"
    }
   ],
   "source": [
    "ridge_reg = Ridge(alpha=0)\n",
    "ridge_reg.fit(X_rid_train, y_rid_train)"
   ]
  },
  {
   "cell_type": "code",
   "execution_count": 211,
   "metadata": {
    "ExecuteTime": {
     "end_time": "2020-08-16T19:15:02.479552Z",
     "start_time": "2020-08-16T19:15:02.469788Z"
    }
   },
   "outputs": [
    {
     "data": {
      "text/html": [
       "<div>\n",
       "<style scoped>\n",
       "    .dataframe tbody tr th:only-of-type {\n",
       "        vertical-align: middle;\n",
       "    }\n",
       "\n",
       "    .dataframe tbody tr th {\n",
       "        vertical-align: top;\n",
       "    }\n",
       "\n",
       "    .dataframe thead th {\n",
       "        text-align: right;\n",
       "    }\n",
       "</style>\n",
       "<table border=\"1\" class=\"dataframe\">\n",
       "  <thead>\n",
       "    <tr style=\"text-align: right;\">\n",
       "      <th></th>\n",
       "      <th>variable</th>\n",
       "    </tr>\n",
       "  </thead>\n",
       "  <tbody>\n",
       "    <tr>\n",
       "      <th>0</th>\n",
       "      <td>X1</td>\n",
       "    </tr>\n",
       "    <tr>\n",
       "      <th>1</th>\n",
       "      <td>X2</td>\n",
       "    </tr>\n",
       "    <tr>\n",
       "      <th>2</th>\n",
       "      <td>X3</td>\n",
       "    </tr>\n",
       "    <tr>\n",
       "      <th>3</th>\n",
       "      <td>X4</td>\n",
       "    </tr>\n",
       "  </tbody>\n",
       "</table>\n",
       "</div>"
      ],
      "text/plain": [
       "  variable\n",
       "0       X1\n",
       "1       X2\n",
       "2       X3\n",
       "3       X4"
      ]
     },
     "execution_count": 211,
     "metadata": {},
     "output_type": "execute_result"
    }
   ],
   "source": [
    "ridge_df = pd.DataFrame({'variable': ['X1','X2','X3','X4']})\n",
    "ridge_df"
   ]
  },
  {
   "cell_type": "code",
   "execution_count": 212,
   "metadata": {
    "ExecuteTime": {
     "end_time": "2020-08-16T19:15:05.652127Z",
     "start_time": "2020-08-16T19:15:05.385250Z"
    }
   },
   "outputs": [
    {
     "data": {
      "text/html": [
       "<div>\n",
       "<style scoped>\n",
       "    .dataframe tbody tr th:only-of-type {\n",
       "        vertical-align: middle;\n",
       "    }\n",
       "\n",
       "    .dataframe tbody tr th {\n",
       "        vertical-align: top;\n",
       "    }\n",
       "\n",
       "    .dataframe thead th {\n",
       "        text-align: right;\n",
       "    }\n",
       "</style>\n",
       "<table border=\"1\" class=\"dataframe\">\n",
       "  <thead>\n",
       "    <tr style=\"text-align: right;\">\n",
       "      <th></th>\n",
       "      <th>variable</th>\n",
       "      <th>estimate0</th>\n",
       "      <th>estimate1</th>\n",
       "      <th>estimate2</th>\n",
       "      <th>estimate3</th>\n",
       "      <th>estimate4</th>\n",
       "      <th>estimate5</th>\n",
       "      <th>estimate6</th>\n",
       "      <th>estimate7</th>\n",
       "      <th>estimate8</th>\n",
       "      <th>...</th>\n",
       "      <th>estimate190</th>\n",
       "      <th>estimate191</th>\n",
       "      <th>estimate192</th>\n",
       "      <th>estimate193</th>\n",
       "      <th>estimate194</th>\n",
       "      <th>estimate195</th>\n",
       "      <th>estimate196</th>\n",
       "      <th>estimate197</th>\n",
       "      <th>estimate198</th>\n",
       "      <th>estimate199</th>\n",
       "    </tr>\n",
       "  </thead>\n",
       "  <tbody>\n",
       "    <tr>\n",
       "      <th>0</th>\n",
       "      <td>X1</td>\n",
       "      <td>1.714988</td>\n",
       "      <td>1.707013</td>\n",
       "      <td>1.699120</td>\n",
       "      <td>1.691306</td>\n",
       "      <td>1.683571</td>\n",
       "      <td>1.675912</td>\n",
       "      <td>1.668329</td>\n",
       "      <td>1.660820</td>\n",
       "      <td>1.653384</td>\n",
       "      <td>...</td>\n",
       "      <td>0.915314</td>\n",
       "      <td>0.913053</td>\n",
       "      <td>0.910803</td>\n",
       "      <td>0.908564</td>\n",
       "      <td>0.906335</td>\n",
       "      <td>0.904117</td>\n",
       "      <td>0.901910</td>\n",
       "      <td>0.899713</td>\n",
       "      <td>0.897526</td>\n",
       "      <td>0.895350</td>\n",
       "    </tr>\n",
       "    <tr>\n",
       "      <th>1</th>\n",
       "      <td>X2</td>\n",
       "      <td>-2.949190</td>\n",
       "      <td>-2.940313</td>\n",
       "      <td>-2.931482</td>\n",
       "      <td>-2.922696</td>\n",
       "      <td>-2.913956</td>\n",
       "      <td>-2.905260</td>\n",
       "      <td>-2.896610</td>\n",
       "      <td>-2.888005</td>\n",
       "      <td>-2.879444</td>\n",
       "      <td>...</td>\n",
       "      <td>-1.856201</td>\n",
       "      <td>-1.852563</td>\n",
       "      <td>-1.848939</td>\n",
       "      <td>-1.845329</td>\n",
       "      <td>-1.841733</td>\n",
       "      <td>-1.838151</td>\n",
       "      <td>-1.834583</td>\n",
       "      <td>-1.831029</td>\n",
       "      <td>-1.827489</td>\n",
       "      <td>-1.823962</td>\n",
       "    </tr>\n",
       "    <tr>\n",
       "      <th>2</th>\n",
       "      <td>X3</td>\n",
       "      <td>-7.255186</td>\n",
       "      <td>-7.226113</td>\n",
       "      <td>-7.197412</td>\n",
       "      <td>-7.169073</td>\n",
       "      <td>-7.141087</td>\n",
       "      <td>-7.113446</td>\n",
       "      <td>-7.086143</td>\n",
       "      <td>-7.059168</td>\n",
       "      <td>-7.032515</td>\n",
       "      <td>...</td>\n",
       "      <td>-4.488334</td>\n",
       "      <td>-4.480253</td>\n",
       "      <td>-4.472206</td>\n",
       "      <td>-4.464191</td>\n",
       "      <td>-4.456209</td>\n",
       "      <td>-4.448259</td>\n",
       "      <td>-4.440341</td>\n",
       "      <td>-4.432455</td>\n",
       "      <td>-4.424601</td>\n",
       "      <td>-4.416778</td>\n",
       "    </tr>\n",
       "    <tr>\n",
       "      <th>3</th>\n",
       "      <td>X4</td>\n",
       "      <td>3.281976</td>\n",
       "      <td>3.288696</td>\n",
       "      <td>3.295138</td>\n",
       "      <td>3.301309</td>\n",
       "      <td>3.307218</td>\n",
       "      <td>3.312873</td>\n",
       "      <td>3.318281</td>\n",
       "      <td>3.323450</td>\n",
       "      <td>3.328386</td>\n",
       "      <td>...</td>\n",
       "      <td>3.010077</td>\n",
       "      <td>3.006782</td>\n",
       "      <td>3.003489</td>\n",
       "      <td>3.000197</td>\n",
       "      <td>2.996906</td>\n",
       "      <td>2.993618</td>\n",
       "      <td>2.990331</td>\n",
       "      <td>2.987046</td>\n",
       "      <td>2.983762</td>\n",
       "      <td>2.980481</td>\n",
       "    </tr>\n",
       "  </tbody>\n",
       "</table>\n",
       "<p>4 rows × 201 columns</p>\n",
       "</div>"
      ],
      "text/plain": [
       "  variable  estimate0  estimate1  estimate2  estimate3  estimate4  estimate5  \\\n",
       "0       X1   1.714988   1.707013   1.699120   1.691306   1.683571   1.675912   \n",
       "1       X2  -2.949190  -2.940313  -2.931482  -2.922696  -2.913956  -2.905260   \n",
       "2       X3  -7.255186  -7.226113  -7.197412  -7.169073  -7.141087  -7.113446   \n",
       "3       X4   3.281976   3.288696   3.295138   3.301309   3.307218   3.312873   \n",
       "\n",
       "   estimate6  estimate7  estimate8  ...  estimate190  estimate191  \\\n",
       "0   1.668329   1.660820   1.653384  ...     0.915314     0.913053   \n",
       "1  -2.896610  -2.888005  -2.879444  ...    -1.856201    -1.852563   \n",
       "2  -7.086143  -7.059168  -7.032515  ...    -4.488334    -4.480253   \n",
       "3   3.318281   3.323450   3.328386  ...     3.010077     3.006782   \n",
       "\n",
       "   estimate192  estimate193  estimate194  estimate195  estimate196  \\\n",
       "0     0.910803     0.908564     0.906335     0.904117     0.901910   \n",
       "1    -1.848939    -1.845329    -1.841733    -1.838151    -1.834583   \n",
       "2    -4.472206    -4.464191    -4.456209    -4.448259    -4.440341   \n",
       "3     3.003489     3.000197     2.996906     2.993618     2.990331   \n",
       "\n",
       "   estimate197  estimate198  estimate199  \n",
       "0     0.899713     0.897526     0.895350  \n",
       "1    -1.831029    -1.827489    -1.823962  \n",
       "2    -4.432455    -4.424601    -4.416778  \n",
       "3     2.987046     2.983762     2.980481  \n",
       "\n",
       "[4 rows x 201 columns]"
      ]
     },
     "execution_count": 212,
     "metadata": {},
     "output_type": "execute_result"
    }
   ],
   "source": [
    "for alpha in range(0,200,1):\n",
    "    # training\n",
    "    ridge_reg = Ridge(alpha=alpha)\n",
    "    ridge_reg.fit(X_rid_train, y_rid_train)\n",
    "    col_name = 'estimate' + str(alpha)\n",
    "    ridge_df[col_name] = ridge_reg.coef_\n",
    "\n",
    "ridge_df"
   ]
  },
  {
   "cell_type": "code",
   "execution_count": 213,
   "metadata": {
    "ExecuteTime": {
     "end_time": "2020-08-16T19:15:08.726681Z",
     "start_time": "2020-08-16T19:15:08.704083Z"
    }
   },
   "outputs": [
    {
     "data": {
      "text/html": [
       "<div>\n",
       "<style scoped>\n",
       "    .dataframe tbody tr th:only-of-type {\n",
       "        vertical-align: middle;\n",
       "    }\n",
       "\n",
       "    .dataframe tbody tr th {\n",
       "        vertical-align: top;\n",
       "    }\n",
       "\n",
       "    .dataframe thead th {\n",
       "        text-align: right;\n",
       "    }\n",
       "</style>\n",
       "<table border=\"1\" class=\"dataframe\">\n",
       "  <thead>\n",
       "    <tr style=\"text-align: right;\">\n",
       "      <th>variable</th>\n",
       "      <th>estimate</th>\n",
       "      <th>X1</th>\n",
       "      <th>X2</th>\n",
       "      <th>X3</th>\n",
       "      <th>X4</th>\n",
       "    </tr>\n",
       "  </thead>\n",
       "  <tbody>\n",
       "    <tr>\n",
       "      <th>0</th>\n",
       "      <td>estimate0</td>\n",
       "      <td>1.714988</td>\n",
       "      <td>-2.949190</td>\n",
       "      <td>-7.255186</td>\n",
       "      <td>3.281976</td>\n",
       "    </tr>\n",
       "    <tr>\n",
       "      <th>1</th>\n",
       "      <td>estimate1</td>\n",
       "      <td>1.707013</td>\n",
       "      <td>-2.940313</td>\n",
       "      <td>-7.226113</td>\n",
       "      <td>3.288696</td>\n",
       "    </tr>\n",
       "    <tr>\n",
       "      <th>2</th>\n",
       "      <td>estimate2</td>\n",
       "      <td>1.699120</td>\n",
       "      <td>-2.931482</td>\n",
       "      <td>-7.197412</td>\n",
       "      <td>3.295138</td>\n",
       "    </tr>\n",
       "    <tr>\n",
       "      <th>3</th>\n",
       "      <td>estimate3</td>\n",
       "      <td>1.691306</td>\n",
       "      <td>-2.922696</td>\n",
       "      <td>-7.169073</td>\n",
       "      <td>3.301309</td>\n",
       "    </tr>\n",
       "    <tr>\n",
       "      <th>4</th>\n",
       "      <td>estimate4</td>\n",
       "      <td>1.683571</td>\n",
       "      <td>-2.913956</td>\n",
       "      <td>-7.141087</td>\n",
       "      <td>3.307218</td>\n",
       "    </tr>\n",
       "    <tr>\n",
       "      <th>...</th>\n",
       "      <td>...</td>\n",
       "      <td>...</td>\n",
       "      <td>...</td>\n",
       "      <td>...</td>\n",
       "      <td>...</td>\n",
       "    </tr>\n",
       "    <tr>\n",
       "      <th>195</th>\n",
       "      <td>estimate195</td>\n",
       "      <td>0.904117</td>\n",
       "      <td>-1.838151</td>\n",
       "      <td>-4.448259</td>\n",
       "      <td>2.993618</td>\n",
       "    </tr>\n",
       "    <tr>\n",
       "      <th>196</th>\n",
       "      <td>estimate196</td>\n",
       "      <td>0.901910</td>\n",
       "      <td>-1.834583</td>\n",
       "      <td>-4.440341</td>\n",
       "      <td>2.990331</td>\n",
       "    </tr>\n",
       "    <tr>\n",
       "      <th>197</th>\n",
       "      <td>estimate197</td>\n",
       "      <td>0.899713</td>\n",
       "      <td>-1.831029</td>\n",
       "      <td>-4.432455</td>\n",
       "      <td>2.987046</td>\n",
       "    </tr>\n",
       "    <tr>\n",
       "      <th>198</th>\n",
       "      <td>estimate198</td>\n",
       "      <td>0.897526</td>\n",
       "      <td>-1.827489</td>\n",
       "      <td>-4.424601</td>\n",
       "      <td>2.983762</td>\n",
       "    </tr>\n",
       "    <tr>\n",
       "      <th>199</th>\n",
       "      <td>estimate199</td>\n",
       "      <td>0.895350</td>\n",
       "      <td>-1.823962</td>\n",
       "      <td>-4.416778</td>\n",
       "      <td>2.980481</td>\n",
       "    </tr>\n",
       "  </tbody>\n",
       "</table>\n",
       "<p>200 rows × 5 columns</p>\n",
       "</div>"
      ],
      "text/plain": [
       "variable     estimate        X1        X2        X3        X4\n",
       "0           estimate0  1.714988 -2.949190 -7.255186  3.281976\n",
       "1           estimate1  1.707013 -2.940313 -7.226113  3.288696\n",
       "2           estimate2  1.699120 -2.931482 -7.197412  3.295138\n",
       "3           estimate3  1.691306 -2.922696 -7.169073  3.301309\n",
       "4           estimate4  1.683571 -2.913956 -7.141087  3.307218\n",
       "..                ...       ...       ...       ...       ...\n",
       "195       estimate195  0.904117 -1.838151 -4.448259  2.993618\n",
       "196       estimate196  0.901910 -1.834583 -4.440341  2.990331\n",
       "197       estimate197  0.899713 -1.831029 -4.432455  2.987046\n",
       "198       estimate198  0.897526 -1.827489 -4.424601  2.983762\n",
       "199       estimate199  0.895350 -1.823962 -4.416778  2.980481\n",
       "\n",
       "[200 rows x 5 columns]"
      ]
     },
     "execution_count": 213,
     "metadata": {},
     "output_type": "execute_result"
    }
   ],
   "source": [
    "ridge_df = ridge_df.set_index('variable').T.rename_axis('estimate').reset_index()\n",
    "ridge_df"
   ]
  },
  {
   "cell_type": "code",
   "execution_count": 219,
   "metadata": {
    "ExecuteTime": {
     "end_time": "2020-08-16T20:27:42.713784Z",
     "start_time": "2020-08-16T20:27:42.667339Z"
    }
   },
   "outputs": [
    {
     "data": {
      "text/html": [
       "<div>\n",
       "<style scoped>\n",
       "    .dataframe tbody tr th:only-of-type {\n",
       "        vertical-align: middle;\n",
       "    }\n",
       "\n",
       "    .dataframe tbody tr th {\n",
       "        vertical-align: top;\n",
       "    }\n",
       "\n",
       "    .dataframe thead th {\n",
       "        text-align: right;\n",
       "    }\n",
       "</style>\n",
       "<table border=\"1\" class=\"dataframe\">\n",
       "  <thead>\n",
       "    <tr style=\"text-align: right;\">\n",
       "      <th>variable</th>\n",
       "      <th>X1</th>\n",
       "      <th>X2</th>\n",
       "      <th>X3</th>\n",
       "      <th>X4</th>\n",
       "    </tr>\n",
       "  </thead>\n",
       "  <tbody>\n",
       "    <tr>\n",
       "      <th>count</th>\n",
       "      <td>200.000000</td>\n",
       "      <td>200.000000</td>\n",
       "      <td>200.000000</td>\n",
       "      <td>200.000000</td>\n",
       "    </tr>\n",
       "    <tr>\n",
       "      <th>mean</th>\n",
       "      <td>1.218259</td>\n",
       "      <td>-2.299983</td>\n",
       "      <td>-5.533778</td>\n",
       "      <td>3.250890</td>\n",
       "    </tr>\n",
       "    <tr>\n",
       "      <th>std</th>\n",
       "      <td>0.231461</td>\n",
       "      <td>0.323270</td>\n",
       "      <td>0.794093</td>\n",
       "      <td>0.129597</td>\n",
       "    </tr>\n",
       "    <tr>\n",
       "      <th>min</th>\n",
       "      <td>0.895350</td>\n",
       "      <td>-2.949190</td>\n",
       "      <td>-7.255186</td>\n",
       "      <td>2.980481</td>\n",
       "    </tr>\n",
       "    <tr>\n",
       "      <th>25%</th>\n",
       "      <td>1.017655</td>\n",
       "      <td>-2.559316</td>\n",
       "      <td>-6.134957</td>\n",
       "      <td>3.144382</td>\n",
       "    </tr>\n",
       "    <tr>\n",
       "      <th>50%</th>\n",
       "      <td>1.177291</td>\n",
       "      <td>-2.256964</td>\n",
       "      <td>-5.396676</td>\n",
       "      <td>3.291376</td>\n",
       "    </tr>\n",
       "    <tr>\n",
       "      <th>75%</th>\n",
       "      <td>1.395165</td>\n",
       "      <td>-2.017630</td>\n",
       "      <td>-4.848894</td>\n",
       "      <td>3.368213</td>\n",
       "    </tr>\n",
       "    <tr>\n",
       "      <th>max</th>\n",
       "      <td>1.714988</td>\n",
       "      <td>-1.823962</td>\n",
       "      <td>-4.416778</td>\n",
       "      <td>3.396014</td>\n",
       "    </tr>\n",
       "  </tbody>\n",
       "</table>\n",
       "</div>"
      ],
      "text/plain": [
       "variable          X1          X2          X3          X4\n",
       "count     200.000000  200.000000  200.000000  200.000000\n",
       "mean        1.218259   -2.299983   -5.533778    3.250890\n",
       "std         0.231461    0.323270    0.794093    0.129597\n",
       "min         0.895350   -2.949190   -7.255186    2.980481\n",
       "25%         1.017655   -2.559316   -6.134957    3.144382\n",
       "50%         1.177291   -2.256964   -5.396676    3.291376\n",
       "75%         1.395165   -2.017630   -4.848894    3.368213\n",
       "max         1.714988   -1.823962   -4.416778    3.396014"
      ]
     },
     "execution_count": 219,
     "metadata": {},
     "output_type": "execute_result"
    }
   ],
   "source": [
    "ridge_df.describe()"
   ]
  },
  {
   "cell_type": "markdown",
   "metadata": {},
   "source": [
    "## Ploting betas with alphas."
   ]
  },
  {
   "cell_type": "code",
   "execution_count": 266,
   "metadata": {
    "ExecuteTime": {
     "end_time": "2020-08-16T20:58:50.249546Z",
     "start_time": "2020-08-16T20:58:49.987772Z"
    }
   },
   "outputs": [
    {
     "data": {
      "image/png": "[encoded data removed]",
      "text/plain": [
       "<Figure size 720x360 with 1 Axes>"
      ]
     },
     "metadata": {
      "needs_background": "light"
     },
     "output_type": "display_data"
    }
   ],
   "source": [
    "fig, ax = plt.subplots(figsize=(10, 5))\n",
    "ax.plot(ridge_df.X1, 'r', ridge_df.X2, 'g', ridge_df.X3, 'b', ridge_df.X4, 'c')\n",
    "ax.axhline(y=0, color='black', linestyle='--')\n",
    "ax.set_xlabel(\"Alpha\")\n",
    "ax.set_ylabel(\"Beta Estimate\")\n",
    "ax.set_title(\"Ridge Regression Trace\", fontsize=16)\n",
    "ax.legend(labels=['Year of purchase','House age','Distance from MRT station','No. of convenience store'])\n",
    "ax.grid(True)"
   ]
  },
  {
   "cell_type": "markdown",
   "metadata": {},
   "source": [
    "Conclusion:\n",
    "*  We see 'The number of convenience store' line does not quite shrink as alpha increases. Thus, in this model 'The number of convenience store' seems to be the most significant feature."
   ]
  },
  {
   "cell_type": "markdown",
   "metadata": {},
   "source": [
    "## Lasso Model"
   ]
  },
  {
   "cell_type": "code",
   "execution_count": 267,
   "metadata": {
    "ExecuteTime": {
     "end_time": "2020-08-16T20:58:50.261110Z",
     "start_time": "2020-08-16T20:58:50.251797Z"
    }
   },
   "outputs": [],
   "source": [
    "from sklearn.linear_model import Lasso\n",
    "data = pd.read_csv('Real_Estate_valuation_data.csv')\n",
    "X_lasso = pd.DataFrame(data, columns=['X1','X2','X3','X4'])\n",
    "y_lasso = data.iloc[:, 7].values"
   ]
  },
  {
   "cell_type": "code",
   "execution_count": 268,
   "metadata": {
    "ExecuteTime": {
     "end_time": "2020-08-16T20:58:50.364689Z",
     "start_time": "2020-08-16T20:58:50.263452Z"
    }
   },
   "outputs": [],
   "source": [
    "from sklearn import preprocessing\n",
    "\n",
    "X_lasso= preprocessing.scale(X_lasso)\n",
    "X_lasso_train, X_lasso_test, y_lasso_train, y_lasso_test = train_test_split(\n",
    "   X_lasso, y_lasso, test_size=0.3, random_state=0)"
   ]
  },
  {
   "cell_type": "code",
   "execution_count": 269,
   "metadata": {
    "ExecuteTime": {
     "end_time": "2020-08-16T20:58:50.496054Z",
     "start_time": "2020-08-16T20:58:50.366534Z"
    }
   },
   "outputs": [
    {
     "data": {
      "text/html": [
       "<div>\n",
       "<style scoped>\n",
       "    .dataframe tbody tr th:only-of-type {\n",
       "        vertical-align: middle;\n",
       "    }\n",
       "\n",
       "    .dataframe tbody tr th {\n",
       "        vertical-align: top;\n",
       "    }\n",
       "\n",
       "    .dataframe thead th {\n",
       "        text-align: right;\n",
       "    }\n",
       "</style>\n",
       "<table border=\"1\" class=\"dataframe\">\n",
       "  <thead>\n",
       "    <tr style=\"text-align: right;\">\n",
       "      <th></th>\n",
       "      <th>variable</th>\n",
       "    </tr>\n",
       "  </thead>\n",
       "  <tbody>\n",
       "    <tr>\n",
       "      <th>0</th>\n",
       "      <td>X1</td>\n",
       "    </tr>\n",
       "    <tr>\n",
       "      <th>1</th>\n",
       "      <td>X2</td>\n",
       "    </tr>\n",
       "    <tr>\n",
       "      <th>2</th>\n",
       "      <td>X3</td>\n",
       "    </tr>\n",
       "    <tr>\n",
       "      <th>3</th>\n",
       "      <td>X4</td>\n",
       "    </tr>\n",
       "  </tbody>\n",
       "</table>\n",
       "</div>"
      ],
      "text/plain": [
       "  variable\n",
       "0       X1\n",
       "1       X2\n",
       "2       X3\n",
       "3       X4"
      ]
     },
     "execution_count": 269,
     "metadata": {},
     "output_type": "execute_result"
    }
   ],
   "source": [
    "lasso_df = pd.DataFrame({'variable': ['X1','X2','X3','X4']})\n",
    "lasso_df"
   ]
  },
  {
   "cell_type": "code",
   "execution_count": 270,
   "metadata": {
    "ExecuteTime": {
     "end_time": "2020-08-16T20:58:50.635497Z",
     "start_time": "2020-08-16T20:58:50.503635Z"
    }
   },
   "outputs": [
    {
     "name": "stderr",
     "output_type": "stream",
     "text": [
      "/home/smruti/anaconda3/lib/python3.7/site-packages/ipykernel_launcher.py:4: UserWarning: With alpha=0, this algorithm does not converge well. You are advised to use the LinearRegression estimator\n",
      "  after removing the cwd from sys.path.\n",
      "/home/smruti/anaconda3/lib/python3.7/site-packages/sklearn/linear_model/_coordinate_descent.py:531: UserWarning: Coordinate descent with no regularization may lead to unexpected results and is discouraged.\n",
      "  positive)\n",
      "/home/smruti/anaconda3/lib/python3.7/site-packages/sklearn/linear_model/_coordinate_descent.py:531: ConvergenceWarning: Objective did not converge. You might want to increase the number of iterations. Duality gap: 12353.505324152655, tolerance: 5.503906110726644\n",
      "  positive)\n"
     ]
    },
    {
     "data": {
      "text/html": [
       "<div>\n",
       "<style scoped>\n",
       "    .dataframe tbody tr th:only-of-type {\n",
       "        vertical-align: middle;\n",
       "    }\n",
       "\n",
       "    .dataframe tbody tr th {\n",
       "        vertical-align: top;\n",
       "    }\n",
       "\n",
       "    .dataframe thead th {\n",
       "        text-align: right;\n",
       "    }\n",
       "</style>\n",
       "<table border=\"1\" class=\"dataframe\">\n",
       "  <thead>\n",
       "    <tr style=\"text-align: right;\">\n",
       "      <th></th>\n",
       "      <th>variable</th>\n",
       "      <th>0.0</th>\n",
       "      <th>1.0</th>\n",
       "      <th>2.0</th>\n",
       "      <th>3.0</th>\n",
       "      <th>4.0</th>\n",
       "      <th>5.0</th>\n",
       "      <th>6.0</th>\n",
       "      <th>7.0</th>\n",
       "      <th>8.0</th>\n",
       "      <th>9.0</th>\n",
       "    </tr>\n",
       "  </thead>\n",
       "  <tbody>\n",
       "    <tr>\n",
       "      <th>0</th>\n",
       "      <td>X1</td>\n",
       "      <td>1.714988</td>\n",
       "      <td>0.682897</td>\n",
       "      <td>0.000000</td>\n",
       "      <td>0.000000</td>\n",
       "      <td>0.000000</td>\n",
       "      <td>0.000000</td>\n",
       "      <td>0.000000</td>\n",
       "      <td>0.000000</td>\n",
       "      <td>0.000000</td>\n",
       "      <td>0.000000</td>\n",
       "    </tr>\n",
       "    <tr>\n",
       "      <th>1</th>\n",
       "      <td>X2</td>\n",
       "      <td>-2.949190</td>\n",
       "      <td>-1.997716</td>\n",
       "      <td>-1.035167</td>\n",
       "      <td>-0.050870</td>\n",
       "      <td>-0.000000</td>\n",
       "      <td>-0.000000</td>\n",
       "      <td>-0.000000</td>\n",
       "      <td>-0.000000</td>\n",
       "      <td>-0.000000</td>\n",
       "      <td>-0.000000</td>\n",
       "    </tr>\n",
       "    <tr>\n",
       "      <th>2</th>\n",
       "      <td>X3</td>\n",
       "      <td>-7.255186</td>\n",
       "      <td>-6.593771</td>\n",
       "      <td>-5.975409</td>\n",
       "      <td>-5.442123</td>\n",
       "      <td>-4.851623</td>\n",
       "      <td>-4.257889</td>\n",
       "      <td>-3.319998</td>\n",
       "      <td>-2.332505</td>\n",
       "      <td>-1.345012</td>\n",
       "      <td>-0.357518</td>\n",
       "    </tr>\n",
       "    <tr>\n",
       "      <th>3</th>\n",
       "      <td>X4</td>\n",
       "      <td>3.281976</td>\n",
       "      <td>2.677149</td>\n",
       "      <td>2.048285</td>\n",
       "      <td>1.371859</td>\n",
       "      <td>0.725734</td>\n",
       "      <td>0.081333</td>\n",
       "      <td>0.000000</td>\n",
       "      <td>0.000000</td>\n",
       "      <td>0.000000</td>\n",
       "      <td>0.000000</td>\n",
       "    </tr>\n",
       "  </tbody>\n",
       "</table>\n",
       "</div>"
      ],
      "text/plain": [
       "  variable       0.0       1.0       2.0       3.0       4.0       5.0  \\\n",
       "0       X1  1.714988  0.682897  0.000000  0.000000  0.000000  0.000000   \n",
       "1       X2 -2.949190 -1.997716 -1.035167 -0.050870 -0.000000 -0.000000   \n",
       "2       X3 -7.255186 -6.593771 -5.975409 -5.442123 -4.851623 -4.257889   \n",
       "3       X4  3.281976  2.677149  2.048285  1.371859  0.725734  0.081333   \n",
       "\n",
       "        6.0       7.0       8.0       9.0  \n",
       "0  0.000000  0.000000  0.000000  0.000000  \n",
       "1 -0.000000 -0.000000 -0.000000 -0.000000  \n",
       "2 -3.319998 -2.332505 -1.345012 -0.357518  \n",
       "3  0.000000  0.000000  0.000000  0.000000  "
      ]
     },
     "execution_count": 270,
     "metadata": {},
     "output_type": "execute_result"
    }
   ],
   "source": [
    "for alpha in np.arange(0.0,10.0,1.0):\n",
    "    # training\n",
    "    lasso_reg = Lasso(alpha=alpha)\n",
    "    lasso_reg.fit(X_lasso_train, y_lasso_train)\n",
    "    col_name =  str(alpha)\n",
    "    lasso_df[col_name] = lasso_reg.coef_\n",
    "\n",
    "lasso_df"
   ]
  },
  {
   "cell_type": "code",
   "execution_count": 271,
   "metadata": {
    "ExecuteTime": {
     "end_time": "2020-08-16T20:58:50.706290Z",
     "start_time": "2020-08-16T20:58:50.637455Z"
    }
   },
   "outputs": [
    {
     "data": {
      "text/html": [
       "<div>\n",
       "<style scoped>\n",
       "    .dataframe tbody tr th:only-of-type {\n",
       "        vertical-align: middle;\n",
       "    }\n",
       "\n",
       "    .dataframe tbody tr th {\n",
       "        vertical-align: top;\n",
       "    }\n",
       "\n",
       "    .dataframe thead th {\n",
       "        text-align: right;\n",
       "    }\n",
       "</style>\n",
       "<table border=\"1\" class=\"dataframe\">\n",
       "  <thead>\n",
       "    <tr style=\"text-align: right;\">\n",
       "      <th>variable</th>\n",
       "      <th>X1</th>\n",
       "      <th>X2</th>\n",
       "      <th>X3</th>\n",
       "      <th>X4</th>\n",
       "    </tr>\n",
       "    <tr>\n",
       "      <th>estimate</th>\n",
       "      <th></th>\n",
       "      <th></th>\n",
       "      <th></th>\n",
       "      <th></th>\n",
       "    </tr>\n",
       "  </thead>\n",
       "  <tbody>\n",
       "    <tr>\n",
       "      <th>0.0</th>\n",
       "      <td>1.714988</td>\n",
       "      <td>-2.949190</td>\n",
       "      <td>-7.255186</td>\n",
       "      <td>3.281976</td>\n",
       "    </tr>\n",
       "    <tr>\n",
       "      <th>1.0</th>\n",
       "      <td>0.682897</td>\n",
       "      <td>-1.997716</td>\n",
       "      <td>-6.593771</td>\n",
       "      <td>2.677149</td>\n",
       "    </tr>\n",
       "    <tr>\n",
       "      <th>2.0</th>\n",
       "      <td>0.000000</td>\n",
       "      <td>-1.035167</td>\n",
       "      <td>-5.975409</td>\n",
       "      <td>2.048285</td>\n",
       "    </tr>\n",
       "    <tr>\n",
       "      <th>3.0</th>\n",
       "      <td>0.000000</td>\n",
       "      <td>-0.050870</td>\n",
       "      <td>-5.442123</td>\n",
       "      <td>1.371859</td>\n",
       "    </tr>\n",
       "    <tr>\n",
       "      <th>4.0</th>\n",
       "      <td>0.000000</td>\n",
       "      <td>-0.000000</td>\n",
       "      <td>-4.851623</td>\n",
       "      <td>0.725734</td>\n",
       "    </tr>\n",
       "    <tr>\n",
       "      <th>5.0</th>\n",
       "      <td>0.000000</td>\n",
       "      <td>-0.000000</td>\n",
       "      <td>-4.257889</td>\n",
       "      <td>0.081333</td>\n",
       "    </tr>\n",
       "    <tr>\n",
       "      <th>6.0</th>\n",
       "      <td>0.000000</td>\n",
       "      <td>-0.000000</td>\n",
       "      <td>-3.319998</td>\n",
       "      <td>0.000000</td>\n",
       "    </tr>\n",
       "    <tr>\n",
       "      <th>7.0</th>\n",
       "      <td>0.000000</td>\n",
       "      <td>-0.000000</td>\n",
       "      <td>-2.332505</td>\n",
       "      <td>0.000000</td>\n",
       "    </tr>\n",
       "    <tr>\n",
       "      <th>8.0</th>\n",
       "      <td>0.000000</td>\n",
       "      <td>-0.000000</td>\n",
       "      <td>-1.345012</td>\n",
       "      <td>0.000000</td>\n",
       "    </tr>\n",
       "    <tr>\n",
       "      <th>9.0</th>\n",
       "      <td>0.000000</td>\n",
       "      <td>-0.000000</td>\n",
       "      <td>-0.357518</td>\n",
       "      <td>0.000000</td>\n",
       "    </tr>\n",
       "  </tbody>\n",
       "</table>\n",
       "</div>"
      ],
      "text/plain": [
       "variable        X1        X2        X3        X4\n",
       "estimate                                        \n",
       "0.0       1.714988 -2.949190 -7.255186  3.281976\n",
       "1.0       0.682897 -1.997716 -6.593771  2.677149\n",
       "2.0       0.000000 -1.035167 -5.975409  2.048285\n",
       "3.0       0.000000 -0.050870 -5.442123  1.371859\n",
       "4.0       0.000000 -0.000000 -4.851623  0.725734\n",
       "5.0       0.000000 -0.000000 -4.257889  0.081333\n",
       "6.0       0.000000 -0.000000 -3.319998  0.000000\n",
       "7.0       0.000000 -0.000000 -2.332505  0.000000\n",
       "8.0       0.000000 -0.000000 -1.345012  0.000000\n",
       "9.0       0.000000 -0.000000 -0.357518  0.000000"
      ]
     },
     "execution_count": 271,
     "metadata": {},
     "output_type": "execute_result"
    }
   ],
   "source": [
    "lasso_df = lasso_df.set_index('variable').T.rename_axis('estimate')\n",
    "lasso_df"
   ]
  },
  {
   "cell_type": "code",
   "execution_count": 272,
   "metadata": {
    "ExecuteTime": {
     "end_time": "2020-08-16T20:58:50.821842Z",
     "start_time": "2020-08-16T20:58:50.708499Z"
    }
   },
   "outputs": [
    {
     "name": "stdout",
     "output_type": "stream",
     "text": [
      "<class 'pandas.core.frame.DataFrame'>\n",
      "Index: 10 entries, 0.0 to 9.0\n",
      "Data columns (total 4 columns):\n",
      " #   Column  Non-Null Count  Dtype  \n",
      "---  ------  --------------  -----  \n",
      " 0   X1      10 non-null     float64\n",
      " 1   X2      10 non-null     float64\n",
      " 2   X3      10 non-null     float64\n",
      " 3   X4      10 non-null     float64\n",
      "dtypes: float64(4)\n",
      "memory usage: 400.0+ bytes\n"
     ]
    }
   ],
   "source": [
    "lasso_df.info()"
   ]
  },
  {
   "cell_type": "code",
   "execution_count": 273,
   "metadata": {
    "ExecuteTime": {
     "end_time": "2020-08-16T20:58:50.944577Z",
     "start_time": "2020-08-16T20:58:50.833107Z"
    }
   },
   "outputs": [
    {
     "data": {
      "text/html": [
       "<div>\n",
       "<style scoped>\n",
       "    .dataframe tbody tr th:only-of-type {\n",
       "        vertical-align: middle;\n",
       "    }\n",
       "\n",
       "    .dataframe tbody tr th {\n",
       "        vertical-align: top;\n",
       "    }\n",
       "\n",
       "    .dataframe thead th {\n",
       "        text-align: right;\n",
       "    }\n",
       "</style>\n",
       "<table border=\"1\" class=\"dataframe\">\n",
       "  <thead>\n",
       "    <tr style=\"text-align: right;\">\n",
       "      <th>variable</th>\n",
       "      <th>X1</th>\n",
       "      <th>X2</th>\n",
       "      <th>X3</th>\n",
       "      <th>X4</th>\n",
       "    </tr>\n",
       "  </thead>\n",
       "  <tbody>\n",
       "    <tr>\n",
       "      <th>count</th>\n",
       "      <td>10.000000</td>\n",
       "      <td>10.000000</td>\n",
       "      <td>10.000000</td>\n",
       "      <td>10.000000</td>\n",
       "    </tr>\n",
       "    <tr>\n",
       "      <th>mean</th>\n",
       "      <td>0.239788</td>\n",
       "      <td>-0.603294</td>\n",
       "      <td>-4.173103</td>\n",
       "      <td>1.018634</td>\n",
       "    </tr>\n",
       "    <tr>\n",
       "      <th>std</th>\n",
       "      <td>0.561006</td>\n",
       "      <td>1.060561</td>\n",
       "      <td>2.293894</td>\n",
       "      <td>1.254907</td>\n",
       "    </tr>\n",
       "    <tr>\n",
       "      <th>min</th>\n",
       "      <td>0.000000</td>\n",
       "      <td>-2.949190</td>\n",
       "      <td>-7.255186</td>\n",
       "      <td>0.000000</td>\n",
       "    </tr>\n",
       "    <tr>\n",
       "      <th>25%</th>\n",
       "      <td>0.000000</td>\n",
       "      <td>-0.789093</td>\n",
       "      <td>-5.842088</td>\n",
       "      <td>0.000000</td>\n",
       "    </tr>\n",
       "    <tr>\n",
       "      <th>50%</th>\n",
       "      <td>0.000000</td>\n",
       "      <td>-0.000000</td>\n",
       "      <td>-4.554756</td>\n",
       "      <td>0.403534</td>\n",
       "    </tr>\n",
       "    <tr>\n",
       "      <th>75%</th>\n",
       "      <td>0.000000</td>\n",
       "      <td>-0.000000</td>\n",
       "      <td>-2.579378</td>\n",
       "      <td>1.879179</td>\n",
       "    </tr>\n",
       "    <tr>\n",
       "      <th>max</th>\n",
       "      <td>1.714988</td>\n",
       "      <td>-0.000000</td>\n",
       "      <td>-0.357518</td>\n",
       "      <td>3.281976</td>\n",
       "    </tr>\n",
       "  </tbody>\n",
       "</table>\n",
       "</div>"
      ],
      "text/plain": [
       "variable         X1         X2         X3         X4\n",
       "count     10.000000  10.000000  10.000000  10.000000\n",
       "mean       0.239788  -0.603294  -4.173103   1.018634\n",
       "std        0.561006   1.060561   2.293894   1.254907\n",
       "min        0.000000  -2.949190  -7.255186   0.000000\n",
       "25%        0.000000  -0.789093  -5.842088   0.000000\n",
       "50%        0.000000  -0.000000  -4.554756   0.403534\n",
       "75%        0.000000  -0.000000  -2.579378   1.879179\n",
       "max        1.714988  -0.000000  -0.357518   3.281976"
      ]
     },
     "execution_count": 273,
     "metadata": {},
     "output_type": "execute_result"
    }
   ],
   "source": [
    "lasso_df.describe()"
   ]
  },
  {
   "cell_type": "markdown",
   "metadata": {},
   "source": [
    "## Plotting beta estimate with alphas."
   ]
  },
  {
   "cell_type": "code",
   "execution_count": 274,
   "metadata": {
    "ExecuteTime": {
     "end_time": "2020-08-16T20:58:51.318570Z",
     "start_time": "2020-08-16T20:58:50.948445Z"
    }
   },
   "outputs": [
    {
     "data": {
      "image/png": "[encoded data removed]",
      "text/plain": [
       "<Figure size 720x360 with 1 Axes>"
      ]
     },
     "metadata": {
      "needs_background": "light"
     },
     "output_type": "display_data"
    }
   ],
   "source": [
    "fig, ax = plt.subplots(figsize=(10, 5))\n",
    "ax.plot(lasso_df.X1, 'r', lasso_df.X2, 'g', lasso_df.X3, 'b', lasso_df.X4, 'c')\n",
    "ax.axhline(y=0, color='black', linestyle='--')\n",
    "ax.set_xlabel(\"Alpha\")\n",
    "ax.set_ylabel(\"Beta Estimate\")\n",
    "ax.set_title(\"Lasso Regression Trace\", fontsize=16)\n",
    "ax.legend(labels=['Year of purchase','House age','Distance from MRT station','No. of convenience store'])\n",
    "ax.grid(True)"
   ]
  },
  {
   "cell_type": "markdown",
   "metadata": {},
   "source": [
    "* Ridge regression enforces the feature coefficients to be lower, but it does not enforce them to be zero. \n",
    "  i.e. it will not get rid of irrelevant features but minimize their impact on the trained model. But, Lasso regression can lead to feature selection.\n",
    "* Lasso Loss function is of the form, $ L = ∑{( Ŷi- Yi)}^2 + α∑|β|$."
   ]
  },
  {
   "cell_type": "markdown",
   "metadata": {},
   "source": [
    "# Robust Regression\n",
    "* Robust regression is interested in fitting a regression model in the presence of corrupt data: either outliers, or error in the model.\n",
    "* Three techniques supported by scikit - RANSAC, Theil Sen and HuberRegressor"
   ]
  }
 ],
 "metadata": {
  "kernelspec": {
   "display_name": "Python 3",
   "language": "python",
   "name": "python3"
  },
  "language_info": {
   "codemirror_mode": {
    "name": "ipython",
    "version": 3
   },
   "file_extension": ".py",
   "mimetype": "text/x-python",
   "name": "python",
   "nbconvert_exporter": "python",
   "pygments_lexer": "ipython3",
   "version": "3.7.3"
  },
  "toc": {
   "base_numbering": 1,
   "nav_menu": {},
   "number_sections": true,
   "sideBar": true,
   "skip_h1_title": false,
   "title_cell": "Table of Contents",
   "title_sidebar": "Contents",
   "toc_cell": false,
   "toc_position": {},
   "toc_section_display": true,
   "toc_window_display": true
  },
  "varInspector": {
   "cols": {
    "lenName": 16,
    "lenType": 16,
    "lenVar": 40
   },
   "kernels_config": {
    "python": {
     "delete_cmd_postfix": "",
     "delete_cmd_prefix": "del ",
     "library": "var_list.py",
     "varRefreshCmd": "print(var_dic_list())"
    },
    "r": {
     "delete_cmd_postfix": ") ",
     "delete_cmd_prefix": "rm(",
     "library": "var_list.r",
     "varRefreshCmd": "cat(var_dic_list()) "
    }
   },
   "types_to_exclude": [
    "module",
    "function",
    "builtin_function_or_method",
    "instance",
    "_Feature"
   ],
   "window_display": false
  }
 },
 "nbformat": 4,
 "nbformat_minor": 4
}
